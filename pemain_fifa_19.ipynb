{
  "cells": [
    {
      "cell_type": "markdown",
      "source": [
        "# **BISNISS UNDERSTANDING**"
      ],
      "metadata": {
        "id": "2r1ZYhuJcl9m"
      }
    },
    {
      "cell_type": "markdown",
      "source": [
        "FIFA adalah salah satu video game sepak bola terbesar di dunia, digunakan oleh jutaan penggemar sepak bola dan gamer. Dataset FIFA ini memberikan gambaran tentang karakteristik pemain sepak bola, seperti posisi bermain, usia, kaki dominan, rating keseluruhan, potensi, dan nilai pasar. Data ini sangat relevan bagi klub sepak bola dan pelatih untuk membuat keputusan strategis seperti posisi pemain dan menentukan taktik di sebuah tim.\n",
        "\n",
        "Namun, tidak semua pemain memiliki pengaruh atau nilai yang sama dalam sebuah tim. Mengingat persaingan ketat dalam dunia sepak bola, penting untuk memahami faktor-faktor yang menentukan kinerja dan nilai pemain, seperti posisi, rating keseluruhan, preferensi kaki dominan, dan usia.\n",
        "\n",
        "Tujuan utama dari analisis ini adalah untuk memahami distribusi pemain berdasarkan karakteristik utama, mengidentifikasi pemain terbaik berdasarkan rating, dan mengevaluasi nilai pasar mereka.\n",
        "\n",
        "Pertanyaannya adalah: faktor apa yang paling memengaruhi nilai pasar dan kinerja pemain dalam dataset FIFA?"
      ],
      "metadata": {
        "id": "7nXGgkoicvIX"
      }
    },
    {
      "cell_type": "markdown",
      "source": [
        "# **DATA UNDERSTANDING**"
      ],
      "metadata": {
        "id": "2Nnl7naDvLD1"
      }
    },
    {
      "cell_type": "markdown",
      "source": [
        "Langkah pertama yaitu Mengimport librari yang dibutuhkan"
      ],
      "metadata": {
        "id": "Z6zDsFa--f29"
      }
    },
    {
      "cell_type": "code",
      "source": [
        "import pandas as pd\n",
        "import matplotlib.pyplot as plt\n",
        "import numpy as np\n",
        "import os\n",
        "import seaborn as sns"
      ],
      "metadata": {
        "id": "qied2H9Ru6Js"
      },
      "execution_count": null,
      "outputs": []
    },
    {
      "cell_type": "markdown",
      "source": [
        "kesimpulannya :\n",
        "*   pandas as pd: Digunakan untuk mengalisis data berbasis tabel,  seperti membaca file, membersihkan data, dan melakukan analisis statistik dasar.\n",
        "*   matplotlib.pyplot dan seaborn as sns: berguna untuk membuat visualisasi data, seperti grafik distribusi plot, bar plot, atau histogram.\n",
        "*   numpy as np: Digunakan untuk operasi numerik\n",
        "*   Os: Berguna untuk megoperasi yang terkait dengan sistem file, seperti membaca dan memeriksa keberadaan file yang sudah diimport.\n",
        "\n",
        "\n"
      ],
      "metadata": {
        "id": "8amP4BE8GDZC"
      }
    },
    {
      "cell_type": "code",
      "source": [
        "df=pd.read_csv('fifa_eda.csv')\n",
        "\n",
        "df"
      ],
      "metadata": {
        "colab": {
          "base_uri": "https://localhost:8080/",
          "height": 652
        },
        "id": "ziIPcG-yu-HV",
        "outputId": "68812e86-9b2c-4fde-8944-aba46cb7e94a"
      },
      "execution_count": null,
      "outputs": [
        {
          "output_type": "execute_result",
          "data": {
            "text/plain": [
              "           ID                Name  Age Nationality  Overall  Potential  \\\n",
              "0      158023            L. Messi   31   Argentina       94         94   \n",
              "1       20801   Cristiano Ronaldo   33    Portugal       94         94   \n",
              "2      190871           Neymar Jr   26      Brazil       92         93   \n",
              "3      193080              De Gea   27       Spain       91         93   \n",
              "4      192985        K. De Bruyne   27     Belgium       91         92   \n",
              "...       ...                 ...  ...         ...      ...        ...   \n",
              "18202  238813        J. Lundstram   19     England       47         65   \n",
              "18203  243165  N. Christoffersson   19      Sweden       47         63   \n",
              "18204  241638           B. Worman   16     England       47         67   \n",
              "18205  246268      D. Walker-Rice   17     England       47         66   \n",
              "18206  246269           G. Nugent   16     England       46         66   \n",
              "\n",
              "                      Club     Value   Wage Preferred Foot  \\\n",
              "0             FC Barcelona  110500.0  565.0           Left   \n",
              "1                 Juventus   77000.0  405.0          Right   \n",
              "2      Paris Saint-Germain  118500.0  290.0          Right   \n",
              "3        Manchester United   72000.0  260.0          Right   \n",
              "4          Manchester City  102000.0  355.0          Right   \n",
              "...                    ...       ...    ...            ...   \n",
              "18202      Crewe Alexandra      60.0    1.0          Right   \n",
              "18203       Trelleborgs FF      60.0    1.0          Right   \n",
              "18204     Cambridge United      60.0    1.0          Right   \n",
              "18205      Tranmere Rovers      60.0    1.0          Right   \n",
              "18206      Tranmere Rovers      60.0    1.0          Right   \n",
              "\n",
              "       International Reputation  Skill Moves Position  Joined  \\\n",
              "0                           5.0          4.0       RF    2004   \n",
              "1                           5.0          5.0       ST    2018   \n",
              "2                           5.0          5.0       LW    2017   \n",
              "3                           4.0          1.0       GK    2011   \n",
              "4                           4.0          4.0      RCM    2015   \n",
              "...                         ...          ...      ...     ...   \n",
              "18202                       1.0          2.0       CM    2017   \n",
              "18203                       1.0          2.0       ST    2018   \n",
              "18204                       1.0          2.0       ST    2017   \n",
              "18205                       1.0          2.0       RW    2018   \n",
              "18206                       1.0          2.0       CM    2018   \n",
              "\n",
              "      Contract Valid Until    Height  Weight  Release Clause  \n",
              "0               2021-01-01  5.583333   159.0        226500.0  \n",
              "1               2022-01-01  6.166667   183.0        127100.0  \n",
              "2               2022-01-01  5.750000   150.0        228100.0  \n",
              "3               2020-01-01  6.333333   168.0        138600.0  \n",
              "4               2023-01-01  5.916667   154.0        196400.0  \n",
              "...                    ...       ...     ...             ...  \n",
              "18202           2019-01-01  5.750000   134.0           143.0  \n",
              "18203           2020-01-01  6.250000   170.0           113.0  \n",
              "18204           2021-01-01  5.666667   148.0           165.0  \n",
              "18205           2019-01-01  5.833333   154.0           143.0  \n",
              "18206           2019-01-01  5.833333   176.0           165.0  \n",
              "\n",
              "[18207 rows x 18 columns]"
            ],
            "text/html": [
              "\n",
              "  <div id=\"df-bb34714c-e731-4af5-9d14-5d360579b3ca\" class=\"colab-df-container\">\n",
              "    <div>\n",
              "<style scoped>\n",
              "    .dataframe tbody tr th:only-of-type {\n",
              "        vertical-align: middle;\n",
              "    }\n",
              "\n",
              "    .dataframe tbody tr th {\n",
              "        vertical-align: top;\n",
              "    }\n",
              "\n",
              "    .dataframe thead th {\n",
              "        text-align: right;\n",
              "    }\n",
              "</style>\n",
              "<table border=\"1\" class=\"dataframe\">\n",
              "  <thead>\n",
              "    <tr style=\"text-align: right;\">\n",
              "      <th></th>\n",
              "      <th>ID</th>\n",
              "      <th>Name</th>\n",
              "      <th>Age</th>\n",
              "      <th>Nationality</th>\n",
              "      <th>Overall</th>\n",
              "      <th>Potential</th>\n",
              "      <th>Club</th>\n",
              "      <th>Value</th>\n",
              "      <th>Wage</th>\n",
              "      <th>Preferred Foot</th>\n",
              "      <th>International Reputation</th>\n",
              "      <th>Skill Moves</th>\n",
              "      <th>Position</th>\n",
              "      <th>Joined</th>\n",
              "      <th>Contract Valid Until</th>\n",
              "      <th>Height</th>\n",
              "      <th>Weight</th>\n",
              "      <th>Release Clause</th>\n",
              "    </tr>\n",
              "  </thead>\n",
              "  <tbody>\n",
              "    <tr>\n",
              "      <th>0</th>\n",
              "      <td>158023</td>\n",
              "      <td>L. Messi</td>\n",
              "      <td>31</td>\n",
              "      <td>Argentina</td>\n",
              "      <td>94</td>\n",
              "      <td>94</td>\n",
              "      <td>FC Barcelona</td>\n",
              "      <td>110500.0</td>\n",
              "      <td>565.0</td>\n",
              "      <td>Left</td>\n",
              "      <td>5.0</td>\n",
              "      <td>4.0</td>\n",
              "      <td>RF</td>\n",
              "      <td>2004</td>\n",
              "      <td>2021-01-01</td>\n",
              "      <td>5.583333</td>\n",
              "      <td>159.0</td>\n",
              "      <td>226500.0</td>\n",
              "    </tr>\n",
              "    <tr>\n",
              "      <th>1</th>\n",
              "      <td>20801</td>\n",
              "      <td>Cristiano Ronaldo</td>\n",
              "      <td>33</td>\n",
              "      <td>Portugal</td>\n",
              "      <td>94</td>\n",
              "      <td>94</td>\n",
              "      <td>Juventus</td>\n",
              "      <td>77000.0</td>\n",
              "      <td>405.0</td>\n",
              "      <td>Right</td>\n",
              "      <td>5.0</td>\n",
              "      <td>5.0</td>\n",
              "      <td>ST</td>\n",
              "      <td>2018</td>\n",
              "      <td>2022-01-01</td>\n",
              "      <td>6.166667</td>\n",
              "      <td>183.0</td>\n",
              "      <td>127100.0</td>\n",
              "    </tr>\n",
              "    <tr>\n",
              "      <th>2</th>\n",
              "      <td>190871</td>\n",
              "      <td>Neymar Jr</td>\n",
              "      <td>26</td>\n",
              "      <td>Brazil</td>\n",
              "      <td>92</td>\n",
              "      <td>93</td>\n",
              "      <td>Paris Saint-Germain</td>\n",
              "      <td>118500.0</td>\n",
              "      <td>290.0</td>\n",
              "      <td>Right</td>\n",
              "      <td>5.0</td>\n",
              "      <td>5.0</td>\n",
              "      <td>LW</td>\n",
              "      <td>2017</td>\n",
              "      <td>2022-01-01</td>\n",
              "      <td>5.750000</td>\n",
              "      <td>150.0</td>\n",
              "      <td>228100.0</td>\n",
              "    </tr>\n",
              "    <tr>\n",
              "      <th>3</th>\n",
              "      <td>193080</td>\n",
              "      <td>De Gea</td>\n",
              "      <td>27</td>\n",
              "      <td>Spain</td>\n",
              "      <td>91</td>\n",
              "      <td>93</td>\n",
              "      <td>Manchester United</td>\n",
              "      <td>72000.0</td>\n",
              "      <td>260.0</td>\n",
              "      <td>Right</td>\n",
              "      <td>4.0</td>\n",
              "      <td>1.0</td>\n",
              "      <td>GK</td>\n",
              "      <td>2011</td>\n",
              "      <td>2020-01-01</td>\n",
              "      <td>6.333333</td>\n",
              "      <td>168.0</td>\n",
              "      <td>138600.0</td>\n",
              "    </tr>\n",
              "    <tr>\n",
              "      <th>4</th>\n",
              "      <td>192985</td>\n",
              "      <td>K. De Bruyne</td>\n",
              "      <td>27</td>\n",
              "      <td>Belgium</td>\n",
              "      <td>91</td>\n",
              "      <td>92</td>\n",
              "      <td>Manchester City</td>\n",
              "      <td>102000.0</td>\n",
              "      <td>355.0</td>\n",
              "      <td>Right</td>\n",
              "      <td>4.0</td>\n",
              "      <td>4.0</td>\n",
              "      <td>RCM</td>\n",
              "      <td>2015</td>\n",
              "      <td>2023-01-01</td>\n",
              "      <td>5.916667</td>\n",
              "      <td>154.0</td>\n",
              "      <td>196400.0</td>\n",
              "    </tr>\n",
              "    <tr>\n",
              "      <th>...</th>\n",
              "      <td>...</td>\n",
              "      <td>...</td>\n",
              "      <td>...</td>\n",
              "      <td>...</td>\n",
              "      <td>...</td>\n",
              "      <td>...</td>\n",
              "      <td>...</td>\n",
              "      <td>...</td>\n",
              "      <td>...</td>\n",
              "      <td>...</td>\n",
              "      <td>...</td>\n",
              "      <td>...</td>\n",
              "      <td>...</td>\n",
              "      <td>...</td>\n",
              "      <td>...</td>\n",
              "      <td>...</td>\n",
              "      <td>...</td>\n",
              "      <td>...</td>\n",
              "    </tr>\n",
              "    <tr>\n",
              "      <th>18202</th>\n",
              "      <td>238813</td>\n",
              "      <td>J. Lundstram</td>\n",
              "      <td>19</td>\n",
              "      <td>England</td>\n",
              "      <td>47</td>\n",
              "      <td>65</td>\n",
              "      <td>Crewe Alexandra</td>\n",
              "      <td>60.0</td>\n",
              "      <td>1.0</td>\n",
              "      <td>Right</td>\n",
              "      <td>1.0</td>\n",
              "      <td>2.0</td>\n",
              "      <td>CM</td>\n",
              "      <td>2017</td>\n",
              "      <td>2019-01-01</td>\n",
              "      <td>5.750000</td>\n",
              "      <td>134.0</td>\n",
              "      <td>143.0</td>\n",
              "    </tr>\n",
              "    <tr>\n",
              "      <th>18203</th>\n",
              "      <td>243165</td>\n",
              "      <td>N. Christoffersson</td>\n",
              "      <td>19</td>\n",
              "      <td>Sweden</td>\n",
              "      <td>47</td>\n",
              "      <td>63</td>\n",
              "      <td>Trelleborgs FF</td>\n",
              "      <td>60.0</td>\n",
              "      <td>1.0</td>\n",
              "      <td>Right</td>\n",
              "      <td>1.0</td>\n",
              "      <td>2.0</td>\n",
              "      <td>ST</td>\n",
              "      <td>2018</td>\n",
              "      <td>2020-01-01</td>\n",
              "      <td>6.250000</td>\n",
              "      <td>170.0</td>\n",
              "      <td>113.0</td>\n",
              "    </tr>\n",
              "    <tr>\n",
              "      <th>18204</th>\n",
              "      <td>241638</td>\n",
              "      <td>B. Worman</td>\n",
              "      <td>16</td>\n",
              "      <td>England</td>\n",
              "      <td>47</td>\n",
              "      <td>67</td>\n",
              "      <td>Cambridge United</td>\n",
              "      <td>60.0</td>\n",
              "      <td>1.0</td>\n",
              "      <td>Right</td>\n",
              "      <td>1.0</td>\n",
              "      <td>2.0</td>\n",
              "      <td>ST</td>\n",
              "      <td>2017</td>\n",
              "      <td>2021-01-01</td>\n",
              "      <td>5.666667</td>\n",
              "      <td>148.0</td>\n",
              "      <td>165.0</td>\n",
              "    </tr>\n",
              "    <tr>\n",
              "      <th>18205</th>\n",
              "      <td>246268</td>\n",
              "      <td>D. Walker-Rice</td>\n",
              "      <td>17</td>\n",
              "      <td>England</td>\n",
              "      <td>47</td>\n",
              "      <td>66</td>\n",
              "      <td>Tranmere Rovers</td>\n",
              "      <td>60.0</td>\n",
              "      <td>1.0</td>\n",
              "      <td>Right</td>\n",
              "      <td>1.0</td>\n",
              "      <td>2.0</td>\n",
              "      <td>RW</td>\n",
              "      <td>2018</td>\n",
              "      <td>2019-01-01</td>\n",
              "      <td>5.833333</td>\n",
              "      <td>154.0</td>\n",
              "      <td>143.0</td>\n",
              "    </tr>\n",
              "    <tr>\n",
              "      <th>18206</th>\n",
              "      <td>246269</td>\n",
              "      <td>G. Nugent</td>\n",
              "      <td>16</td>\n",
              "      <td>England</td>\n",
              "      <td>46</td>\n",
              "      <td>66</td>\n",
              "      <td>Tranmere Rovers</td>\n",
              "      <td>60.0</td>\n",
              "      <td>1.0</td>\n",
              "      <td>Right</td>\n",
              "      <td>1.0</td>\n",
              "      <td>2.0</td>\n",
              "      <td>CM</td>\n",
              "      <td>2018</td>\n",
              "      <td>2019-01-01</td>\n",
              "      <td>5.833333</td>\n",
              "      <td>176.0</td>\n",
              "      <td>165.0</td>\n",
              "    </tr>\n",
              "  </tbody>\n",
              "</table>\n",
              "<p>18207 rows × 18 columns</p>\n",
              "</div>\n",
              "    <div class=\"colab-df-buttons\">\n",
              "\n",
              "  <div class=\"colab-df-container\">\n",
              "    <button class=\"colab-df-convert\" onclick=\"convertToInteractive('df-bb34714c-e731-4af5-9d14-5d360579b3ca')\"\n",
              "            title=\"Convert this dataframe to an interactive table.\"\n",
              "            style=\"display:none;\">\n",
              "\n",
              "  <svg xmlns=\"http://www.w3.org/2000/svg\" height=\"24px\" viewBox=\"0 -960 960 960\">\n",
              "    <path d=\"M120-120v-720h720v720H120Zm60-500h600v-160H180v160Zm220 220h160v-160H400v160Zm0 220h160v-160H400v160ZM180-400h160v-160H180v160Zm440 0h160v-160H620v160ZM180-180h160v-160H180v160Zm440 0h160v-160H620v160Z\"/>\n",
              "  </svg>\n",
              "    </button>\n",
              "\n",
              "  <style>\n",
              "    .colab-df-container {\n",
              "      display:flex;\n",
              "      gap: 12px;\n",
              "    }\n",
              "\n",
              "    .colab-df-convert {\n",
              "      background-color: #E8F0FE;\n",
              "      border: none;\n",
              "      border-radius: 50%;\n",
              "      cursor: pointer;\n",
              "      display: none;\n",
              "      fill: #1967D2;\n",
              "      height: 32px;\n",
              "      padding: 0 0 0 0;\n",
              "      width: 32px;\n",
              "    }\n",
              "\n",
              "    .colab-df-convert:hover {\n",
              "      background-color: #E2EBFA;\n",
              "      box-shadow: 0px 1px 2px rgba(60, 64, 67, 0.3), 0px 1px 3px 1px rgba(60, 64, 67, 0.15);\n",
              "      fill: #174EA6;\n",
              "    }\n",
              "\n",
              "    .colab-df-buttons div {\n",
              "      margin-bottom: 4px;\n",
              "    }\n",
              "\n",
              "    [theme=dark] .colab-df-convert {\n",
              "      background-color: #3B4455;\n",
              "      fill: #D2E3FC;\n",
              "    }\n",
              "\n",
              "    [theme=dark] .colab-df-convert:hover {\n",
              "      background-color: #434B5C;\n",
              "      box-shadow: 0px 1px 3px 1px rgba(0, 0, 0, 0.15);\n",
              "      filter: drop-shadow(0px 1px 2px rgba(0, 0, 0, 0.3));\n",
              "      fill: #FFFFFF;\n",
              "    }\n",
              "  </style>\n",
              "\n",
              "    <script>\n",
              "      const buttonEl =\n",
              "        document.querySelector('#df-bb34714c-e731-4af5-9d14-5d360579b3ca button.colab-df-convert');\n",
              "      buttonEl.style.display =\n",
              "        google.colab.kernel.accessAllowed ? 'block' : 'none';\n",
              "\n",
              "      async function convertToInteractive(key) {\n",
              "        const element = document.querySelector('#df-bb34714c-e731-4af5-9d14-5d360579b3ca');\n",
              "        const dataTable =\n",
              "          await google.colab.kernel.invokeFunction('convertToInteractive',\n",
              "                                                    [key], {});\n",
              "        if (!dataTable) return;\n",
              "\n",
              "        const docLinkHtml = 'Like what you see? Visit the ' +\n",
              "          '<a target=\"_blank\" href=https://colab.research.google.com/notebooks/data_table.ipynb>data table notebook</a>'\n",
              "          + ' to learn more about interactive tables.';\n",
              "        element.innerHTML = '';\n",
              "        dataTable['output_type'] = 'display_data';\n",
              "        await google.colab.output.renderOutput(dataTable, element);\n",
              "        const docLink = document.createElement('div');\n",
              "        docLink.innerHTML = docLinkHtml;\n",
              "        element.appendChild(docLink);\n",
              "      }\n",
              "    </script>\n",
              "  </div>\n",
              "\n",
              "\n",
              "<div id=\"df-8d486b64-6e35-401c-a2ca-d65f7dcc4d41\">\n",
              "  <button class=\"colab-df-quickchart\" onclick=\"quickchart('df-8d486b64-6e35-401c-a2ca-d65f7dcc4d41')\"\n",
              "            title=\"Suggest charts\"\n",
              "            style=\"display:none;\">\n",
              "\n",
              "<svg xmlns=\"http://www.w3.org/2000/svg\" height=\"24px\"viewBox=\"0 0 24 24\"\n",
              "     width=\"24px\">\n",
              "    <g>\n",
              "        <path d=\"M19 3H5c-1.1 0-2 .9-2 2v14c0 1.1.9 2 2 2h14c1.1 0 2-.9 2-2V5c0-1.1-.9-2-2-2zM9 17H7v-7h2v7zm4 0h-2V7h2v10zm4 0h-2v-4h2v4z\"/>\n",
              "    </g>\n",
              "</svg>\n",
              "  </button>\n",
              "\n",
              "<style>\n",
              "  .colab-df-quickchart {\n",
              "      --bg-color: #E8F0FE;\n",
              "      --fill-color: #1967D2;\n",
              "      --hover-bg-color: #E2EBFA;\n",
              "      --hover-fill-color: #174EA6;\n",
              "      --disabled-fill-color: #AAA;\n",
              "      --disabled-bg-color: #DDD;\n",
              "  }\n",
              "\n",
              "  [theme=dark] .colab-df-quickchart {\n",
              "      --bg-color: #3B4455;\n",
              "      --fill-color: #D2E3FC;\n",
              "      --hover-bg-color: #434B5C;\n",
              "      --hover-fill-color: #FFFFFF;\n",
              "      --disabled-bg-color: #3B4455;\n",
              "      --disabled-fill-color: #666;\n",
              "  }\n",
              "\n",
              "  .colab-df-quickchart {\n",
              "    background-color: var(--bg-color);\n",
              "    border: none;\n",
              "    border-radius: 50%;\n",
              "    cursor: pointer;\n",
              "    display: none;\n",
              "    fill: var(--fill-color);\n",
              "    height: 32px;\n",
              "    padding: 0;\n",
              "    width: 32px;\n",
              "  }\n",
              "\n",
              "  .colab-df-quickchart:hover {\n",
              "    background-color: var(--hover-bg-color);\n",
              "    box-shadow: 0 1px 2px rgba(60, 64, 67, 0.3), 0 1px 3px 1px rgba(60, 64, 67, 0.15);\n",
              "    fill: var(--button-hover-fill-color);\n",
              "  }\n",
              "\n",
              "  .colab-df-quickchart-complete:disabled,\n",
              "  .colab-df-quickchart-complete:disabled:hover {\n",
              "    background-color: var(--disabled-bg-color);\n",
              "    fill: var(--disabled-fill-color);\n",
              "    box-shadow: none;\n",
              "  }\n",
              "\n",
              "  .colab-df-spinner {\n",
              "    border: 2px solid var(--fill-color);\n",
              "    border-color: transparent;\n",
              "    border-bottom-color: var(--fill-color);\n",
              "    animation:\n",
              "      spin 1s steps(1) infinite;\n",
              "  }\n",
              "\n",
              "  @keyframes spin {\n",
              "    0% {\n",
              "      border-color: transparent;\n",
              "      border-bottom-color: var(--fill-color);\n",
              "      border-left-color: var(--fill-color);\n",
              "    }\n",
              "    20% {\n",
              "      border-color: transparent;\n",
              "      border-left-color: var(--fill-color);\n",
              "      border-top-color: var(--fill-color);\n",
              "    }\n",
              "    30% {\n",
              "      border-color: transparent;\n",
              "      border-left-color: var(--fill-color);\n",
              "      border-top-color: var(--fill-color);\n",
              "      border-right-color: var(--fill-color);\n",
              "    }\n",
              "    40% {\n",
              "      border-color: transparent;\n",
              "      border-right-color: var(--fill-color);\n",
              "      border-top-color: var(--fill-color);\n",
              "    }\n",
              "    60% {\n",
              "      border-color: transparent;\n",
              "      border-right-color: var(--fill-color);\n",
              "    }\n",
              "    80% {\n",
              "      border-color: transparent;\n",
              "      border-right-color: var(--fill-color);\n",
              "      border-bottom-color: var(--fill-color);\n",
              "    }\n",
              "    90% {\n",
              "      border-color: transparent;\n",
              "      border-bottom-color: var(--fill-color);\n",
              "    }\n",
              "  }\n",
              "</style>\n",
              "\n",
              "  <script>\n",
              "    async function quickchart(key) {\n",
              "      const quickchartButtonEl =\n",
              "        document.querySelector('#' + key + ' button');\n",
              "      quickchartButtonEl.disabled = true;  // To prevent multiple clicks.\n",
              "      quickchartButtonEl.classList.add('colab-df-spinner');\n",
              "      try {\n",
              "        const charts = await google.colab.kernel.invokeFunction(\n",
              "            'suggestCharts', [key], {});\n",
              "      } catch (error) {\n",
              "        console.error('Error during call to suggestCharts:', error);\n",
              "      }\n",
              "      quickchartButtonEl.classList.remove('colab-df-spinner');\n",
              "      quickchartButtonEl.classList.add('colab-df-quickchart-complete');\n",
              "    }\n",
              "    (() => {\n",
              "      let quickchartButtonEl =\n",
              "        document.querySelector('#df-8d486b64-6e35-401c-a2ca-d65f7dcc4d41 button');\n",
              "      quickchartButtonEl.style.display =\n",
              "        google.colab.kernel.accessAllowed ? 'block' : 'none';\n",
              "    })();\n",
              "  </script>\n",
              "</div>\n",
              "\n",
              "  <div id=\"id_a213e841-6882-4676-a73b-574c96889e2d\">\n",
              "    <style>\n",
              "      .colab-df-generate {\n",
              "        background-color: #E8F0FE;\n",
              "        border: none;\n",
              "        border-radius: 50%;\n",
              "        cursor: pointer;\n",
              "        display: none;\n",
              "        fill: #1967D2;\n",
              "        height: 32px;\n",
              "        padding: 0 0 0 0;\n",
              "        width: 32px;\n",
              "      }\n",
              "\n",
              "      .colab-df-generate:hover {\n",
              "        background-color: #E2EBFA;\n",
              "        box-shadow: 0px 1px 2px rgba(60, 64, 67, 0.3), 0px 1px 3px 1px rgba(60, 64, 67, 0.15);\n",
              "        fill: #174EA6;\n",
              "      }\n",
              "\n",
              "      [theme=dark] .colab-df-generate {\n",
              "        background-color: #3B4455;\n",
              "        fill: #D2E3FC;\n",
              "      }\n",
              "\n",
              "      [theme=dark] .colab-df-generate:hover {\n",
              "        background-color: #434B5C;\n",
              "        box-shadow: 0px 1px 3px 1px rgba(0, 0, 0, 0.15);\n",
              "        filter: drop-shadow(0px 1px 2px rgba(0, 0, 0, 0.3));\n",
              "        fill: #FFFFFF;\n",
              "      }\n",
              "    </style>\n",
              "    <button class=\"colab-df-generate\" onclick=\"generateWithVariable('df')\"\n",
              "            title=\"Generate code using this dataframe.\"\n",
              "            style=\"display:none;\">\n",
              "\n",
              "  <svg xmlns=\"http://www.w3.org/2000/svg\" height=\"24px\"viewBox=\"0 0 24 24\"\n",
              "       width=\"24px\">\n",
              "    <path d=\"M7,19H8.4L18.45,9,17,7.55,7,17.6ZM5,21V16.75L18.45,3.32a2,2,0,0,1,2.83,0l1.4,1.43a1.91,1.91,0,0,1,.58,1.4,1.91,1.91,0,0,1-.58,1.4L9.25,21ZM18.45,9,17,7.55Zm-12,3A5.31,5.31,0,0,0,4.9,8.1,5.31,5.31,0,0,0,1,6.5,5.31,5.31,0,0,0,4.9,4.9,5.31,5.31,0,0,0,6.5,1,5.31,5.31,0,0,0,8.1,4.9,5.31,5.31,0,0,0,12,6.5,5.46,5.46,0,0,0,6.5,12Z\"/>\n",
              "  </svg>\n",
              "    </button>\n",
              "    <script>\n",
              "      (() => {\n",
              "      const buttonEl =\n",
              "        document.querySelector('#id_a213e841-6882-4676-a73b-574c96889e2d button.colab-df-generate');\n",
              "      buttonEl.style.display =\n",
              "        google.colab.kernel.accessAllowed ? 'block' : 'none';\n",
              "\n",
              "      buttonEl.onclick = () => {\n",
              "        google.colab.notebook.generateWithVariable('df');\n",
              "      }\n",
              "      })();\n",
              "    </script>\n",
              "  </div>\n",
              "\n",
              "    </div>\n",
              "  </div>\n"
            ],
            "application/vnd.google.colaboratory.intrinsic+json": {
              "type": "dataframe",
              "variable_name": "df",
              "summary": "{\n  \"name\": \"df\",\n  \"rows\": 18207,\n  \"fields\": [\n    {\n      \"column\": \"ID\",\n      \"properties\": {\n        \"dtype\": \"number\",\n        \"std\": 29965,\n        \"min\": 16,\n        \"max\": 246620,\n        \"num_unique_values\": 18207,\n        \"samples\": [\n          229692,\n          239605,\n          214981\n        ],\n        \"semantic_type\": \"\",\n        \"description\": \"\"\n      }\n    },\n    {\n      \"column\": \"Name\",\n      \"properties\": {\n        \"dtype\": \"string\",\n        \"num_unique_values\": 17194,\n        \"samples\": [\n          \"R. Seigers\",\n          \"K. Bak\\u0131rc\\u0131o\\u011flu\",\n          \"V. Torosidis\"\n        ],\n        \"semantic_type\": \"\",\n        \"description\": \"\"\n      }\n    },\n    {\n      \"column\": \"Age\",\n      \"properties\": {\n        \"dtype\": \"number\",\n        \"std\": 4,\n        \"min\": 16,\n        \"max\": 45,\n        \"num_unique_values\": 29,\n        \"samples\": [\n          16,\n          36,\n          22\n        ],\n        \"semantic_type\": \"\",\n        \"description\": \"\"\n      }\n    },\n    {\n      \"column\": \"Nationality\",\n      \"properties\": {\n        \"dtype\": \"category\",\n        \"num_unique_values\": 164,\n        \"samples\": [\n          \"Niger\",\n          \"Burundi\",\n          \"Mauritius\"\n        ],\n        \"semantic_type\": \"\",\n        \"description\": \"\"\n      }\n    },\n    {\n      \"column\": \"Overall\",\n      \"properties\": {\n        \"dtype\": \"number\",\n        \"std\": 6,\n        \"min\": 46,\n        \"max\": 94,\n        \"num_unique_values\": 48,\n        \"samples\": [\n          66,\n          53,\n          67\n        ],\n        \"semantic_type\": \"\",\n        \"description\": \"\"\n      }\n    },\n    {\n      \"column\": \"Potential\",\n      \"properties\": {\n        \"dtype\": \"number\",\n        \"std\": 6,\n        \"min\": 48,\n        \"max\": 95,\n        \"num_unique_values\": 47,\n        \"samples\": [\n          68,\n          56,\n          69\n        ],\n        \"semantic_type\": \"\",\n        \"description\": \"\"\n      }\n    },\n    {\n      \"column\": \"Club\",\n      \"properties\": {\n        \"dtype\": \"category\",\n        \"num_unique_values\": 651,\n        \"samples\": [\n          \"St. Patrick's Athletic\",\n          \"Legia Warszawa\",\n          \"Al Shabab\"\n        ],\n        \"semantic_type\": \"\",\n        \"description\": \"\"\n      }\n    },\n    {\n      \"column\": \"Value\",\n      \"properties\": {\n        \"dtype\": \"number\",\n        \"std\": 5626.715434153204,\n        \"min\": 10.0,\n        \"max\": 118500.0,\n        \"num_unique_values\": 216,\n        \"samples\": [\n          180.0,\n          80.0,\n          2500.0\n        ],\n        \"semantic_type\": \"\",\n        \"description\": \"\"\n      }\n    },\n    {\n      \"column\": \"Wage\",\n      \"properties\": {\n        \"dtype\": \"number\",\n        \"std\": 21.999290405995378,\n        \"min\": 0.0,\n        \"max\": 565.0,\n        \"num_unique_values\": 144,\n        \"samples\": [\n          12.0,\n          300.0,\n          70.0\n        ],\n        \"semantic_type\": \"\",\n        \"description\": \"\"\n      }\n    },\n    {\n      \"column\": \"Preferred Foot\",\n      \"properties\": {\n        \"dtype\": \"category\",\n        \"num_unique_values\": 2,\n        \"samples\": [\n          \"Right\",\n          \"Left\"\n        ],\n        \"semantic_type\": \"\",\n        \"description\": \"\"\n      }\n    },\n    {\n      \"column\": \"International Reputation\",\n      \"properties\": {\n        \"dtype\": \"number\",\n        \"std\": 0.3940307558443124,\n        \"min\": 1.0,\n        \"max\": 5.0,\n        \"num_unique_values\": 5,\n        \"samples\": [\n          4.0,\n          1.0\n        ],\n        \"semantic_type\": \"\",\n        \"description\": \"\"\n      }\n    },\n    {\n      \"column\": \"Skill Moves\",\n      \"properties\": {\n        \"dtype\": \"number\",\n        \"std\": 0.7561640557918748,\n        \"min\": 1.0,\n        \"max\": 5.0,\n        \"num_unique_values\": 5,\n        \"samples\": [\n          5.0,\n          2.0\n        ],\n        \"semantic_type\": \"\",\n        \"description\": \"\"\n      }\n    },\n    {\n      \"column\": \"Position\",\n      \"properties\": {\n        \"dtype\": \"category\",\n        \"num_unique_values\": 27,\n        \"samples\": [\n          \"LCM\",\n          \"LS\"\n        ],\n        \"semantic_type\": \"\",\n        \"description\": \"\"\n      }\n    },\n    {\n      \"column\": \"Joined\",\n      \"properties\": {\n        \"dtype\": \"number\",\n        \"std\": 2,\n        \"min\": 1991,\n        \"max\": 2018,\n        \"num_unique_values\": 22,\n        \"samples\": [\n          2004,\n          2009\n        ],\n        \"semantic_type\": \"\",\n        \"description\": \"\"\n      }\n    },\n    {\n      \"column\": \"Contract Valid Until\",\n      \"properties\": {\n        \"dtype\": \"object\",\n        \"num_unique_values\": 35,\n        \"samples\": [\n          \"2019-01-18\",\n          \"2019-05-31\"\n        ],\n        \"semantic_type\": \"\",\n        \"description\": \"\"\n      }\n    },\n    {\n      \"column\": \"Height\",\n      \"properties\": {\n        \"dtype\": \"number\",\n        \"std\": 0.22051402777120976,\n        \"min\": 5.083333333333333,\n        \"max\": 6.75,\n        \"num_unique_values\": 22,\n        \"samples\": [\n          5.583333333333333,\n          5.416666666666667\n        ],\n        \"semantic_type\": \"\",\n        \"description\": \"\"\n      }\n    },\n    {\n      \"column\": \"Weight\",\n      \"properties\": {\n        \"dtype\": \"number\",\n        \"std\": 15.572774957743455,\n        \"min\": 110.0,\n        \"max\": 243.0,\n        \"num_unique_values\": 58,\n        \"samples\": [\n          159.0,\n          163.0\n        ],\n        \"semantic_type\": \"\",\n        \"description\": \"\"\n      }\n    },\n    {\n      \"column\": \"Release Clause\",\n      \"properties\": {\n        \"dtype\": \"number\",\n        \"std\": 10630.414430316949,\n        \"min\": 13.0,\n        \"max\": 228100.0,\n        \"num_unique_values\": 1245,\n        \"samples\": [\n          665.0,\n          7500.0\n        ],\n        \"semantic_type\": \"\",\n        \"description\": \"\"\n      }\n    }\n  ]\n}"
            }
          },
          "metadata": {},
          "execution_count": 3
        }
      ]
    },
    {
      "cell_type": "markdown",
      "source": [],
      "metadata": {
        "id": "BgkD5s1skeWB"
      }
    },
    {
      "cell_type": "markdown",
      "source": [
        "kesimpulan : mengimport dataset untuk ditampilkan dengan menggunakan df"
      ],
      "metadata": {
        "id": "xGqRU6PwEoYW"
      }
    },
    {
      "cell_type": "code",
      "source": [
        "df.columns"
      ],
      "metadata": {
        "colab": {
          "base_uri": "https://localhost:8080/"
        },
        "id": "7rcDJXBDvG2D",
        "outputId": "7f1d66d2-a8e7-453f-9b28-22a5f465c570"
      },
      "execution_count": null,
      "outputs": [
        {
          "output_type": "execute_result",
          "data": {
            "text/plain": [
              "Index(['ID', 'Name', 'Age', 'Nationality', 'Overall', 'Potential', 'Club',\n",
              "       'Value', 'Wage', 'Preferred Foot', 'International Reputation',\n",
              "       'Skill Moves', 'Position', 'Joined', 'Contract Valid Until', 'Height',\n",
              "       'Weight', 'Release Clause'],\n",
              "      dtype='object')"
            ]
          },
          "metadata": {},
          "execution_count": 4
        }
      ]
    },
    {
      "cell_type": "markdown",
      "source": [
        "df. columns = untuk menampilkan daftar kolom yang terdapat pada dataset"
      ],
      "metadata": {
        "id": "y7mjX8dD_pml"
      }
    },
    {
      "cell_type": "code",
      "source": [
        "df.shape"
      ],
      "metadata": {
        "colab": {
          "base_uri": "https://localhost:8080/"
        },
        "id": "AvnQnWSlJZua",
        "outputId": "e76220dd-ed0e-4915-c9ce-a9ed47aee71f"
      },
      "execution_count": null,
      "outputs": [
        {
          "output_type": "execute_result",
          "data": {
            "text/plain": [
              "(18207, 18)"
            ]
          },
          "metadata": {},
          "execution_count": 4
        }
      ]
    },
    {
      "cell_type": "markdown",
      "source": [
        "data.shape : Untuk melihat jumlah baris dan kolom."
      ],
      "metadata": {
        "id": "tzl_7EFB91F2"
      }
    },
    {
      "cell_type": "code",
      "source": [
        "df.isnull().sum()"
      ],
      "metadata": {
        "colab": {
          "base_uri": "https://localhost:8080/",
          "height": 648
        },
        "id": "wHmu3WYxvhYm",
        "outputId": "a0c2e4ae-f8b5-4e2b-e3af-6e3c8f094f31"
      },
      "execution_count": null,
      "outputs": [
        {
          "output_type": "execute_result",
          "data": {
            "text/plain": [
              "ID                            0\n",
              "Name                          0\n",
              "Age                           0\n",
              "Nationality                   0\n",
              "Overall                       0\n",
              "Potential                     0\n",
              "Club                        241\n",
              "Value                       252\n",
              "Wage                          0\n",
              "Preferred Foot                0\n",
              "International Reputation     48\n",
              "Skill Moves                  48\n",
              "Position                      0\n",
              "Joined                        0\n",
              "Contract Valid Until        289\n",
              "Height                        0\n",
              "Weight                        0\n",
              "Release Clause                0\n",
              "dtype: int64"
            ],
            "text/html": [
              "<div>\n",
              "<style scoped>\n",
              "    .dataframe tbody tr th:only-of-type {\n",
              "        vertical-align: middle;\n",
              "    }\n",
              "\n",
              "    .dataframe tbody tr th {\n",
              "        vertical-align: top;\n",
              "    }\n",
              "\n",
              "    .dataframe thead th {\n",
              "        text-align: right;\n",
              "    }\n",
              "</style>\n",
              "<table border=\"1\" class=\"dataframe\">\n",
              "  <thead>\n",
              "    <tr style=\"text-align: right;\">\n",
              "      <th></th>\n",
              "      <th>0</th>\n",
              "    </tr>\n",
              "  </thead>\n",
              "  <tbody>\n",
              "    <tr>\n",
              "      <th>ID</th>\n",
              "      <td>0</td>\n",
              "    </tr>\n",
              "    <tr>\n",
              "      <th>Name</th>\n",
              "      <td>0</td>\n",
              "    </tr>\n",
              "    <tr>\n",
              "      <th>Age</th>\n",
              "      <td>0</td>\n",
              "    </tr>\n",
              "    <tr>\n",
              "      <th>Nationality</th>\n",
              "      <td>0</td>\n",
              "    </tr>\n",
              "    <tr>\n",
              "      <th>Overall</th>\n",
              "      <td>0</td>\n",
              "    </tr>\n",
              "    <tr>\n",
              "      <th>Potential</th>\n",
              "      <td>0</td>\n",
              "    </tr>\n",
              "    <tr>\n",
              "      <th>Club</th>\n",
              "      <td>241</td>\n",
              "    </tr>\n",
              "    <tr>\n",
              "      <th>Value</th>\n",
              "      <td>252</td>\n",
              "    </tr>\n",
              "    <tr>\n",
              "      <th>Wage</th>\n",
              "      <td>0</td>\n",
              "    </tr>\n",
              "    <tr>\n",
              "      <th>Preferred Foot</th>\n",
              "      <td>0</td>\n",
              "    </tr>\n",
              "    <tr>\n",
              "      <th>International Reputation</th>\n",
              "      <td>48</td>\n",
              "    </tr>\n",
              "    <tr>\n",
              "      <th>Skill Moves</th>\n",
              "      <td>48</td>\n",
              "    </tr>\n",
              "    <tr>\n",
              "      <th>Position</th>\n",
              "      <td>0</td>\n",
              "    </tr>\n",
              "    <tr>\n",
              "      <th>Joined</th>\n",
              "      <td>0</td>\n",
              "    </tr>\n",
              "    <tr>\n",
              "      <th>Contract Valid Until</th>\n",
              "      <td>289</td>\n",
              "    </tr>\n",
              "    <tr>\n",
              "      <th>Height</th>\n",
              "      <td>0</td>\n",
              "    </tr>\n",
              "    <tr>\n",
              "      <th>Weight</th>\n",
              "      <td>0</td>\n",
              "    </tr>\n",
              "    <tr>\n",
              "      <th>Release Clause</th>\n",
              "      <td>0</td>\n",
              "    </tr>\n",
              "  </tbody>\n",
              "</table>\n",
              "</div><br><label><b>dtype:</b> int64</label>"
            ]
          },
          "metadata": {},
          "execution_count": 5
        }
      ]
    },
    {
      "cell_type": "markdown",
      "source": [
        "df.isnull().sum() = Mengidentifikasi jumlah nilai kosong (missing values) di setiap kolom."
      ],
      "metadata": {
        "id": "_ttq5bRF3rIg"
      }
    },
    {
      "cell_type": "code",
      "source": [
        "df.dtypes"
      ],
      "metadata": {
        "colab": {
          "base_uri": "https://localhost:8080/",
          "height": 648
        },
        "id": "faWDwjYRvpPJ",
        "outputId": "6f439a67-1d5f-4d7b-8778-97b90a2e2755"
      },
      "execution_count": null,
      "outputs": [
        {
          "output_type": "execute_result",
          "data": {
            "text/plain": [
              "ID                            int64\n",
              "Name                         object\n",
              "Age                           int64\n",
              "Nationality                  object\n",
              "Overall                       int64\n",
              "Potential                     int64\n",
              "Club                         object\n",
              "Value                       float64\n",
              "Wage                        float64\n",
              "Preferred Foot               object\n",
              "International Reputation    float64\n",
              "Skill Moves                 float64\n",
              "Position                     object\n",
              "Joined                        int64\n",
              "Contract Valid Until         object\n",
              "Height                      float64\n",
              "Weight                      float64\n",
              "Release Clause              float64\n",
              "dtype: object"
            ],
            "text/html": [
              "<div>\n",
              "<style scoped>\n",
              "    .dataframe tbody tr th:only-of-type {\n",
              "        vertical-align: middle;\n",
              "    }\n",
              "\n",
              "    .dataframe tbody tr th {\n",
              "        vertical-align: top;\n",
              "    }\n",
              "\n",
              "    .dataframe thead th {\n",
              "        text-align: right;\n",
              "    }\n",
              "</style>\n",
              "<table border=\"1\" class=\"dataframe\">\n",
              "  <thead>\n",
              "    <tr style=\"text-align: right;\">\n",
              "      <th></th>\n",
              "      <th>0</th>\n",
              "    </tr>\n",
              "  </thead>\n",
              "  <tbody>\n",
              "    <tr>\n",
              "      <th>ID</th>\n",
              "      <td>int64</td>\n",
              "    </tr>\n",
              "    <tr>\n",
              "      <th>Name</th>\n",
              "      <td>object</td>\n",
              "    </tr>\n",
              "    <tr>\n",
              "      <th>Age</th>\n",
              "      <td>int64</td>\n",
              "    </tr>\n",
              "    <tr>\n",
              "      <th>Nationality</th>\n",
              "      <td>object</td>\n",
              "    </tr>\n",
              "    <tr>\n",
              "      <th>Overall</th>\n",
              "      <td>int64</td>\n",
              "    </tr>\n",
              "    <tr>\n",
              "      <th>Potential</th>\n",
              "      <td>int64</td>\n",
              "    </tr>\n",
              "    <tr>\n",
              "      <th>Club</th>\n",
              "      <td>object</td>\n",
              "    </tr>\n",
              "    <tr>\n",
              "      <th>Value</th>\n",
              "      <td>float64</td>\n",
              "    </tr>\n",
              "    <tr>\n",
              "      <th>Wage</th>\n",
              "      <td>float64</td>\n",
              "    </tr>\n",
              "    <tr>\n",
              "      <th>Preferred Foot</th>\n",
              "      <td>object</td>\n",
              "    </tr>\n",
              "    <tr>\n",
              "      <th>International Reputation</th>\n",
              "      <td>float64</td>\n",
              "    </tr>\n",
              "    <tr>\n",
              "      <th>Skill Moves</th>\n",
              "      <td>float64</td>\n",
              "    </tr>\n",
              "    <tr>\n",
              "      <th>Position</th>\n",
              "      <td>object</td>\n",
              "    </tr>\n",
              "    <tr>\n",
              "      <th>Joined</th>\n",
              "      <td>int64</td>\n",
              "    </tr>\n",
              "    <tr>\n",
              "      <th>Contract Valid Until</th>\n",
              "      <td>object</td>\n",
              "    </tr>\n",
              "    <tr>\n",
              "      <th>Height</th>\n",
              "      <td>float64</td>\n",
              "    </tr>\n",
              "    <tr>\n",
              "      <th>Weight</th>\n",
              "      <td>float64</td>\n",
              "    </tr>\n",
              "    <tr>\n",
              "      <th>Release Clause</th>\n",
              "      <td>float64</td>\n",
              "    </tr>\n",
              "  </tbody>\n",
              "</table>\n",
              "</div><br><label><b>dtype:</b> object</label>"
            ]
          },
          "metadata": {},
          "execution_count": 7
        }
      ]
    },
    {
      "cell_type": "markdown",
      "source": [
        "df.dtypes = untuk menampilkan tipe data dari setiap kolom"
      ],
      "metadata": {
        "id": "dI9BsFXMAMqo"
      }
    },
    {
      "cell_type": "code",
      "source": [
        "df.info()"
      ],
      "metadata": {
        "colab": {
          "base_uri": "https://localhost:8080/"
        },
        "id": "qz0KfRi0vrkv",
        "outputId": "287fe53b-1a38-44f5-a01b-4518d2d44d21"
      },
      "execution_count": null,
      "outputs": [
        {
          "output_type": "stream",
          "name": "stdout",
          "text": [
            "<class 'pandas.core.frame.DataFrame'>\n",
            "RangeIndex: 18207 entries, 0 to 18206\n",
            "Data columns (total 18 columns):\n",
            " #   Column                    Non-Null Count  Dtype  \n",
            "---  ------                    --------------  -----  \n",
            " 0   ID                        18207 non-null  int64  \n",
            " 1   Name                      18207 non-null  object \n",
            " 2   Age                       18207 non-null  int64  \n",
            " 3   Nationality               18207 non-null  object \n",
            " 4   Overall                   18207 non-null  int64  \n",
            " 5   Potential                 18207 non-null  int64  \n",
            " 6   Club                      17966 non-null  object \n",
            " 7   Value                     17955 non-null  float64\n",
            " 8   Wage                      18207 non-null  float64\n",
            " 9   Preferred Foot            18207 non-null  object \n",
            " 10  International Reputation  18159 non-null  float64\n",
            " 11  Skill Moves               18159 non-null  float64\n",
            " 12  Position                  18207 non-null  object \n",
            " 13  Joined                    18207 non-null  int64  \n",
            " 14  Contract Valid Until      17918 non-null  object \n",
            " 15  Height                    18207 non-null  float64\n",
            " 16  Weight                    18207 non-null  float64\n",
            " 17  Release Clause            18207 non-null  float64\n",
            "dtypes: float64(7), int64(5), object(6)\n",
            "memory usage: 2.5+ MB\n"
          ]
        }
      ]
    },
    {
      "cell_type": "markdown",
      "source": [
        "data.info(): Menampilkan informasi tentang jumlah kolom, baris dan tipe data"
      ],
      "metadata": {
        "id": "pBS0sDRwAXPC"
      }
    },
    {
      "cell_type": "code",
      "source": [
        "n=df['Nationality'].nunique()"
      ],
      "metadata": {
        "id": "UjTgezECvwHB"
      },
      "execution_count": null,
      "outputs": []
    },
    {
      "cell_type": "code",
      "source": [
        "print(f'there are {df[\"Nationality\"].nunique()} unique Nationality in dataset')"
      ],
      "metadata": {
        "colab": {
          "base_uri": "https://localhost:8080/"
        },
        "id": "OB5SEfQMvxsb",
        "outputId": "997611e9-8bb4-4887-86dc-30a62842be64"
      },
      "execution_count": null,
      "outputs": [
        {
          "output_type": "stream",
          "name": "stdout",
          "text": [
            "there are 164 unique Nationality in dataset\n"
          ]
        }
      ]
    },
    {
      "cell_type": "markdown",
      "source": [
        "untuk menampilkan nilai data unik (jumlah negara tanpa duplikat) di kolom negara yang terdaftar dalam dataset"
      ],
      "metadata": {
        "id": "CvrIhuT_4W-T"
      }
    },
    {
      "cell_type": "code",
      "source": [
        "df['Club'].nunique()\n",
        "print(f'there are {df[\"Club\"].nunique()} unique Club in dataset')"
      ],
      "metadata": {
        "colab": {
          "base_uri": "https://localhost:8080/"
        },
        "id": "o_nqEKflvzUm",
        "outputId": "11a651dc-1d5b-4871-9223-9b676dce7afb"
      },
      "execution_count": null,
      "outputs": [
        {
          "output_type": "stream",
          "name": "stdout",
          "text": [
            "there are 651 unique Club in dataset\n"
          ]
        }
      ]
    },
    {
      "cell_type": "markdown",
      "source": [
        "untuk menampilkan nilai data unik di kolom club yang terdaftar dalam dataset"
      ],
      "metadata": {
        "id": "2rU0LPkRBuJ4"
      }
    },
    {
      "cell_type": "code",
      "source": [
        "print('Positions of players in dataset\\n')\n",
        "print(df['Position'].unique())"
      ],
      "metadata": {
        "colab": {
          "base_uri": "https://localhost:8080/"
        },
        "id": "6Y1brVqav19v",
        "outputId": "ce83f17b-a4ad-428a-942b-cc5fb956e670"
      },
      "execution_count": null,
      "outputs": [
        {
          "output_type": "stream",
          "name": "stdout",
          "text": [
            "Positions of players in dataset\n",
            "\n",
            "['RF' 'ST' 'LW' 'GK' 'RCM' 'LF' 'RS' 'RCB' 'LCM' 'CB' 'LDM' 'CAM' 'CDM'\n",
            " 'LS' 'LCB' 'RM' 'LAM' 'LM' 'LB' 'RDM' 'RW' 'CM' 'RB' 'RAM' 'CF' 'RWB'\n",
            " 'LWB']\n"
          ]
        }
      ]
    },
    {
      "cell_type": "markdown",
      "source": [
        "untuk menampilkan berbagai posisi player di dalam dataset"
      ],
      "metadata": {
        "id": "sfhNyB5_B7zv"
      }
    },
    {
      "cell_type": "markdown",
      "source": [
        "# **DATA PREPARATION**"
      ],
      "metadata": {
        "id": "N1ynwGNv32n8"
      }
    },
    {
      "cell_type": "code",
      "source": [
        "import pandas as pd\n",
        "\n",
        "# Membaca data\n",
        "data = pd.read_csv('fifa_eda.csv')\n",
        "\n",
        "# Menampilkan kolom\n",
        "print(data.columns)"
      ],
      "metadata": {
        "colab": {
          "base_uri": "https://localhost:8080/"
        },
        "id": "FmvskK2ARhG0",
        "outputId": "12aacc3a-8363-4a36-ed3b-c212fc96f7b4"
      },
      "execution_count": null,
      "outputs": [
        {
          "output_type": "stream",
          "name": "stdout",
          "text": [
            "Index(['ID', 'Name', 'Age', 'Nationality', 'Overall', 'Potential', 'Club',\n",
            "       'Value', 'Wage', 'Preferred Foot', 'International Reputation',\n",
            "       'Skill Moves', 'Position', 'Joined', 'Contract Valid Until', 'Height',\n",
            "       'Weight', 'Release Clause'],\n",
            "      dtype='object')\n"
          ]
        }
      ]
    },
    {
      "cell_type": "code",
      "source": [
        "# Menampilkan 5 data pertama\n",
        "print(data.head())"
      ],
      "metadata": {
        "colab": {
          "base_uri": "https://localhost:8080/"
        },
        "id": "wtwIhEQpRlG2",
        "outputId": "57c22c7d-700b-4b9e-fd28-a21f08eb8dc7"
      },
      "execution_count": null,
      "outputs": [
        {
          "output_type": "stream",
          "name": "stdout",
          "text": [
            "       ID               Name  Age Nationality  Overall  Potential  \\\n",
            "0  158023           L. Messi   31   Argentina       94         94   \n",
            "1   20801  Cristiano Ronaldo   33    Portugal       94         94   \n",
            "2  190871          Neymar Jr   26      Brazil       92         93   \n",
            "3  193080             De Gea   27       Spain       91         93   \n",
            "4  192985       K. De Bruyne   27     Belgium       91         92   \n",
            "\n",
            "                  Club     Value   Wage Preferred Foot  \\\n",
            "0         FC Barcelona  110500.0  565.0           Left   \n",
            "1             Juventus   77000.0  405.0          Right   \n",
            "2  Paris Saint-Germain  118500.0  290.0          Right   \n",
            "3    Manchester United   72000.0  260.0          Right   \n",
            "4      Manchester City  102000.0  355.0          Right   \n",
            "\n",
            "   International Reputation  Skill Moves Position  Joined  \\\n",
            "0                       5.0          4.0       RF    2004   \n",
            "1                       5.0          5.0       ST    2018   \n",
            "2                       5.0          5.0       LW    2017   \n",
            "3                       4.0          1.0       GK    2011   \n",
            "4                       4.0          4.0      RCM    2015   \n",
            "\n",
            "  Contract Valid Until    Height  Weight  Release Clause  \n",
            "0           2021-01-01  5.583333   159.0        226500.0  \n",
            "1           2022-01-01  6.166667   183.0        127100.0  \n",
            "2           2022-01-01  5.750000   150.0        228100.0  \n",
            "3           2020-01-01  6.333333   168.0        138600.0  \n",
            "4           2023-01-01  5.916667   154.0        196400.0  \n"
          ]
        }
      ]
    },
    {
      "cell_type": "code",
      "source": [
        "# Mencari missing value / nilai yang kosong\n",
        "print(data.isna().sum())"
      ],
      "metadata": {
        "colab": {
          "base_uri": "https://localhost:8080/"
        },
        "id": "p0exnMY4RpCt",
        "outputId": "6b050fd5-5e75-4371-8c8f-679e9011b1b2"
      },
      "execution_count": null,
      "outputs": [
        {
          "output_type": "stream",
          "name": "stdout",
          "text": [
            "ID                            0\n",
            "Name                          0\n",
            "Age                           0\n",
            "Nationality                   0\n",
            "Overall                       0\n",
            "Potential                     0\n",
            "Club                        241\n",
            "Value                       252\n",
            "Wage                          0\n",
            "Preferred Foot                0\n",
            "International Reputation     48\n",
            "Skill Moves                  48\n",
            "Position                      0\n",
            "Joined                        0\n",
            "Contract Valid Until        289\n",
            "Height                        0\n",
            "Weight                        0\n",
            "Release Clause                0\n",
            "dtype: int64\n"
          ]
        }
      ]
    },
    {
      "cell_type": "code",
      "source": [
        "# Mencari data yang duplikat\n",
        "print(data.duplicated().sum())"
      ],
      "metadata": {
        "colab": {
          "base_uri": "https://localhost:8080/"
        },
        "id": "Nm3jvPVhRsGz",
        "outputId": "c163def0-aa0e-4157-f245-fa0011b5c7ad"
      },
      "execution_count": null,
      "outputs": [
        {
          "output_type": "stream",
          "name": "stdout",
          "text": [
            "0\n"
          ]
        }
      ]
    },
    {
      "cell_type": "code",
      "source": [
        "# Menampilkan 5 data terakhir\n",
        "print(data.tail())\n"
      ],
      "metadata": {
        "colab": {
          "base_uri": "https://localhost:8080/"
        },
        "id": "4RTSOpF0RwB-",
        "outputId": "b64d6566-caa6-4088-bad0-68836a4243c4"
      },
      "execution_count": null,
      "outputs": [
        {
          "output_type": "stream",
          "name": "stdout",
          "text": [
            "           ID                Name  Age Nationality  Overall  Potential  \\\n",
            "18202  238813        J. Lundstram   19     England       47         65   \n",
            "18203  243165  N. Christoffersson   19      Sweden       47         63   \n",
            "18204  241638           B. Worman   16     England       47         67   \n",
            "18205  246268      D. Walker-Rice   17     England       47         66   \n",
            "18206  246269           G. Nugent   16     England       46         66   \n",
            "\n",
            "                   Club  Value  Wage Preferred Foot  International Reputation  \\\n",
            "18202   Crewe Alexandra   60.0   1.0          Right                       1.0   \n",
            "18203    Trelleborgs FF   60.0   1.0          Right                       1.0   \n",
            "18204  Cambridge United   60.0   1.0          Right                       1.0   \n",
            "18205   Tranmere Rovers   60.0   1.0          Right                       1.0   \n",
            "18206   Tranmere Rovers   60.0   1.0          Right                       1.0   \n",
            "\n",
            "       Skill Moves Position  Joined Contract Valid Until    Height  Weight  \\\n",
            "18202          2.0       CM    2017           2019-01-01  5.750000   134.0   \n",
            "18203          2.0       ST    2018           2020-01-01  6.250000   170.0   \n",
            "18204          2.0       ST    2017           2021-01-01  5.666667   148.0   \n",
            "18205          2.0       RW    2018           2019-01-01  5.833333   154.0   \n",
            "18206          2.0       CM    2018           2019-01-01  5.833333   176.0   \n",
            "\n",
            "       Release Clause  \n",
            "18202           143.0  \n",
            "18203           113.0  \n",
            "18204           165.0  \n",
            "18205           143.0  \n",
            "18206           165.0  \n"
          ]
        }
      ]
    },
    {
      "cell_type": "code",
      "source": [
        "# Memilih kolom numerik untuk analisis statistik\n",
        "numerical_columns = ['Overall', 'Release Clause']\n",
        "\n",
        "# Statistik deskriptif: mean, median, std, dll.\n",
        "statistics = data[numerical_columns].describe(percentiles=[0.25, 0.5, 0.75]).T\n",
        "\n",
        "# Menghitung mode untuk setiap kolom numerik\n",
        "mode_values = data[numerical_columns].mode().iloc[0]\n",
        "\n",
        "# Menampilkan statistik untuk kolom Overall dan Release Clause\n",
        "print(statistics)\n"
      ],
      "metadata": {
        "colab": {
          "base_uri": "https://localhost:8080/"
        },
        "id": "tQ3PQ55fR1QS",
        "outputId": "f90cda8a-dacf-4574-ce45-e4094f3425e3"
      },
      "execution_count": null,
      "outputs": [
        {
          "output_type": "stream",
          "name": "stdout",
          "text": [
            "                  count         mean          std   min    25%     50%  \\\n",
            "Overall         18207.0    66.238699      6.90893  46.0   62.0    66.0   \n",
            "Release Clause  18207.0  4585.060971  10630.41443  13.0  570.0  1300.0   \n",
            "\n",
            "                        75%       max  \n",
            "Overall           71.000000      94.0  \n",
            "Release Clause  4585.060806  228100.0  \n"
          ]
        }
      ]
    },
    {
      "cell_type": "markdown",
      "source": [
        "# kesimpulan dari Hasil Analisis Statistik:\n",
        "\n",
        " Overall (Nilai keseluruhan pemain) = Rata-rata nilai pemain adalah 66,24  menunjukkan nilai dari pemain yang cukup merata dengan beberapa pemain yang sangat berbakat\n",
        "\n",
        "Release Clause (Nilai pasar pemain) = Rata-rata Release Clause adalah 4,58 yang menunjukkan bahwa secara umum pemain dihargai cukup tinggi di pasar transfer.\n",
        "\n",
        "Hal ini menunjukkan kemampuan pemain yang sebagian besar berada pada tingkat rata-rata dengan skor keseluruhan sekitar 66. Namun, dalam hal nilai pasar (Release Clause), terdapat ketimpangan yang cukup besar, di mana rata-rata nilai pasar adalah 4,58 , tetapi banyak pemain dengan nilai kontrak jauh lebih rendah dibandingkan beberapa pemain elit yang memiliki nilai sangat tinggi. Hal ini mencerminkan ketimpangan yang signifikan dalam valuasi pemain sepak bola di pasar transfer."
      ],
      "metadata": {
        "id": "dcpJfSI1XHny"
      }
    },
    {
      "cell_type": "markdown",
      "source": [
        "# **VISUALISASI DATA**"
      ],
      "metadata": {
        "id": "bHW5afpAv4I6"
      }
    },
    {
      "cell_type": "markdown",
      "source": [
        "Ada Beberapa visualisasi yang saya gunakan dalam EDA:\n",
        "\n",
        "**Histogram** : digunakan untuk memvisualisasikan distribusi data numerik.\n",
        "\n",
        "**horizontal bar chart** : digunakan untuk perbandingan antar kategori dalam visualisasi secara horizontal\n",
        "\n",
        "**Vertical bar chart** : digunakan untuk perbandingan antar kategori dalam visualisasi secara horizontal\n",
        "\n",
        "**distribution plot** : digunakan untuk menunjukkan bagaimana data mengalami peningkatan / penurunan dalam bentuk frekuensi\n",
        "\n",
        "**pie chart** : digunakan untuk menunjukkan kontribusi setiap kategori terhadap total keseluruhan.\n",
        "\n"
      ],
      "metadata": {
        "id": "5qTPU0LCNHjc"
      }
    },
    {
      "cell_type": "markdown",
      "source": [
        "# Visualisasi Histogram"
      ],
      "metadata": {
        "id": "Y1KECSQ2bUU9"
      }
    },
    {
      "cell_type": "code",
      "source": [
        "import pandas as pd\n",
        "import matplotlib.pyplot as plt\n",
        "\n",
        "df=pd.read_csv('fifa_eda.csv')\n",
        "\n",
        "# Plot histogram hanya untuk kolom 'Weight'\n",
        "df['Weight'].hist(figsize=(12, 7))\n",
        "\n",
        "# Menyesuaikan layout grafik histogram\n",
        "plt.tight_layout(rect=[0, 0, 1, 0.95])\n",
        "\n",
        "# Menambahkan judul pada grafik histogram dengan ukuran font 16.\n",
        "plt.suptitle('jumlah pemain berdasarkan berat badan pemain', fontsize=16)\n",
        "\n",
        "# menampilkan grafik\n",
        "plt.show()\n"
      ],
      "metadata": {
        "colab": {
          "base_uri": "https://localhost:8080/",
          "height": 639
        },
        "id": "qTZHNiKYZUnC",
        "outputId": "f1f7256c-a361-41a5-bafa-6340073b1b5c"
      },
      "execution_count": null,
      "outputs": [
        {
          "output_type": "display_data",
          "data": {
            "text/plain": [
              "<Figure size 1200x700 with 1 Axes>"
            ],
            "image/png": "[encoded data removed]"
          },
          "metadata": {}
        }
      ]
    },
    {
      "cell_type": "markdown",
      "source": [
        "Kesimpulan Grafik:\n",
        "\n",
        "Grafik ini menunjukkan data berat badan pemain sepak bola. Sebagian besar pemain memiliki berat badan antara 150 hingga 170 kg, dengan puncaknya di sekitar nilai tersebut. Beberapa pemain memiliki berat badan yang lebih rendah dan lebih tinggi dibandingkan rata-rata, namun jumlahnya lebih sedikit. Hal ini memberikan gambaran tentang variasi fisik pemain dalam dunia sepak bola, di mana sebagian besar pemain memiliki berat badan dalam rentang yang cukup seragam.\n",
        "\n",
        "Inti dari grafik ini adalah memberikan gambaran mengenai mayoritas sebaran berat badan pemain sepak bola, yang dapat menjadi faktor penting dalam menentukan posisi dan gaya bermain, mengingat peran fisik yang sangat penting dalam permainan sepak bola."
      ],
      "metadata": {
        "id": "5F6wJc-JbSpk"
      }
    },
    {
      "cell_type": "markdown",
      "source": [
        "# Visualisasi Horizontal bar chart (diagram batang horizontal)"
      ],
      "metadata": {
        "id": "ugdHQAIxOsmx"
      }
    },
    {
      "cell_type": "code",
      "source": [
        "# Memberikan judul pada grafik horizontal bar chart\n",
        "plt.title('jumlah pemain berdasarkan posisi')\n",
        "\n",
        "# Menampilkan jumlah pemain untuk setiap posisi dalam bentuk grafik batang horizontal\n",
        "df['Position'].value_counts().plot(kind='barh')\n",
        "\n",
        "# Memberikan label pada sumbu x (jumlah pemain)\n",
        "plt.xlabel('Jumlah pemain')\n",
        "\n",
        "# Menampilkan grafik\n",
        "plt.show()"
      ],
      "metadata": {
        "colab": {
          "base_uri": "https://localhost:8080/",
          "height": 472
        },
        "id": "-tjyciN1wShh",
        "outputId": "43f65a11-eb22-4d9a-df80-2185bb3e62d3"
      },
      "execution_count": null,
      "outputs": [
        {
          "output_type": "display_data",
          "data": {
            "text/plain": [
              "<Figure size 640x480 with 1 Axes>"
            ],
            "image/png": "[encoded data removed]"
          },
          "metadata": {}
        }
      ]
    },
    {
      "cell_type": "markdown",
      "source": [
        "kesimpulan visualisasi:\n",
        "\n",
        "Grafik batang menunjukkan bahwa posisi Striker (ST) memiliki jumlah pemain terbanyak dibandingkan posisi lainnya. Hal ini menunjukkan bahwa posisi penyerang tengah sangat diminati dalam sepak bola. Posisi lain seperti Goalkeeper (GK) dan Center Midfielder (CM) juga memiliki jumlah pemain yang signifikan, menunjukkan juga bahwa posisi tersebut juga banyak diminati dalam sepak bola. Sebaliknya, posisi seperti Left Forward (LF) dan Right Forward (RF) memiliki jumlah pemain yang paling sedikit, yang mencerminkan peran yang lebih jarang diminati ataupun digunakan dalam formasi sepak bola."
      ],
      "metadata": {
        "id": "BiSZpe9iRegO"
      }
    },
    {
      "cell_type": "markdown",
      "source": [
        "# Visualisasi Vertical bar chart (Diagram batang Vertikal)"
      ],
      "metadata": {
        "id": "6GB_St8WO9NJ"
      }
    },
    {
      "cell_type": "code",
      "source": [
        "# Mengurutkan data berdasarkan nilai 'Overall' secara vertikal, memilih kolom 'Name' dan 'Overall',\n",
        "# mengambil 10 data teratas, dan mengatur 'Name' sebagai indeks\n",
        "top_10_playersby_overall = df.sort_values('Overall', ascending=False)[['Name', 'Overall']][:10].set_index('Name')\n",
        "\n",
        "# Membuat figure dan axis untuk visualisasi dengan ukuran 12x8 inci\n",
        "fig, ax = plt.subplots(figsize=(12, 8))\n",
        "\n",
        "# Membuat grafik vertical bar chart untuk 10 pemain terbaik berdasarkan rating keseluruhan\n",
        "bars = top_10_playersby_overall.plot(kind='bar', ax=ax, color=sns.color_palette(\"viridis\", 1))\n",
        "\n",
        "# Memberi label pada sumbu X dengan font tebal\n",
        "ax.set_xlabel('Pemain', fontsize=14, fontweight='bold')\n",
        "\n",
        "# Memberi label pada sumbu y dengan font tebal\n",
        "ax.set_ylabel('rating keseluruhan', fontsize=14, fontweight='bold')\n",
        "\n",
        "# Memberi judul pada grafik\n",
        "ax.set_title('top 10 pemain berdasarkan rating', fontsize=16, fontweight='bold')\n",
        "\n",
        "# Mengatur rotasi label pada sumbu X agar terlihat jelas\n",
        "plt.xticks(rotation=45, fontsize=12)\n",
        "\n",
        "# Menambahkan garis grid untuk mempermudah membaca grafik\n",
        "ax.grid(True, linestyle='--', alpha=0.6)\n",
        "\n",
        "# Menambahkan nilai di atas batang untuk setiap pemain\n",
        "for bar in bars.containers[0]:\n",
        "    # Mengambil tinggi batang (nilai 'Overall')\n",
        "    yval = bar.get_height()\n",
        "     # Menampilkan nilai 'Overall' di atas batang\n",
        "    plt.text(bar.get_x() + bar.get_width()/2 - 0.1, yval + 0.5, int(yval), fontsize=12, fontweight='bold', color='black')\n",
        "\n",
        "# Menampilkan grafik\n",
        "plt.tight_layout()\n",
        "plt.show()"
      ],
      "metadata": {
        "colab": {
          "base_uri": "https://localhost:8080/",
          "height": 728
        },
        "id": "crvSYTYEzNIg",
        "outputId": "40be1c74-995a-4ef7-90d3-16d1a7410e3d"
      },
      "execution_count": null,
      "outputs": [
        {
          "output_type": "display_data",
          "data": {
            "text/plain": [
              "<Figure size 1200x800 with 1 Axes>"
            ],
            "image/png": "[encoded data removed]"
          },
          "metadata": {}
        }
      ]
    },
    {
      "cell_type": "markdown",
      "source": [
        "kesimpulan visualisasi:\n",
        "\n",
        "Grafik menunjukkan bahwa pemain dengan rating keseluruhan (Overall) tertinggi adalah yang memiliki nilai terbaik, dengan sebagian besar pemain di posisi teratas memiliki rating mendekati nilai maksimal. Hal ini mengindikasikan bahwa pemain-pemain ini dianggap sebagai yang paling unggul dalam hal kemampuan.\n",
        "\n",
        "Secara keseluruhan, grafik ini memberitahu bahwa pemain dengan rating tinggi mendominasi daftar 10 pemain teratas berdasarkan rating keseluruhan, yang menunjukkan bahwa pemain ini yang memiliki penilaian yang sangat tinggi."
      ],
      "metadata": {
        "id": "Zz_1xaZRWYlO"
      }
    },
    {
      "cell_type": "markdown",
      "source": [
        "## Visualisasi distribution plot (distribusi plot)"
      ],
      "metadata": {
        "id": "nX528kOeDBQr"
      }
    },
    {
      "cell_type": "code",
      "source": [
        "# Membuat distribusi plot\n",
        "# - df['Age'].tolist() -> Mengambil data umur pemain sepak bola.\n",
        "# - group_labels -> memberi judul grafik.\n",
        "# - show_hist=False -> menghilangkan garis di dumbu y.\n",
        "# - show_rug=False -> menghilangkan garis di dumbu x.\n",
        "fig = ff.create_distplot([df['Age'].tolist()], group_labels=['Age distribution'], show_hist=False, show_rug=False)\n",
        "\n",
        "# Add title and axis labels\n",
        "fig.update_layout(\n",
        "    # title_text -> Memberikan judul grafik.\n",
        "    title_text='Age Distribution of Players',\n",
        "    # title_x=0.5 -> Menempatkan judul di tengah grafik.\n",
        "    title_x=0.5,\n",
        "    # xaxis_title -> Memberikan label pada sumbu x (umur pemain sepak bola).\n",
        "    xaxis_title='Age'\n",
        ")\n",
        "\n",
        "# menampilkan grafik\n",
        "fig.show()"
      ],
      "metadata": {
        "colab": {
          "base_uri": "https://localhost:8080/",
          "height": 542
        },
        "id": "6CU71Nm7OUYy",
        "outputId": "af50dc5b-1465-4270-9749-46ab5914c86a"
      },
      "execution_count": null,
      "outputs": [
        {
          "output_type": "display_data",
          "data": {
            "text/html": [
              "<html>\n",
              "<head><meta charset=\"utf-8\" /></head>\n",
              "<body>\n",
              "    <div>            <script src=\"https://cdnjs.cloudflare.com/ajax/libs/mathjax/2.7.5/MathJax.js?config=TeX-AMS-MML_SVG\"></script><script type=\"text/javascript\">if (window.MathJax && window.MathJax.Hub && window.MathJax.Hub.Config) {window.MathJax.Hub.Config({SVG: {font: \"STIX-Web\"}});}</script>                <script type=\"text/javascript\">window.PlotlyConfig = {MathJaxConfig: 'local'};</script>\n",
              "        <script charset=\"utf-8\" src=\"https://cdn.plot.ly/plotly-2.35.2.min.js\"></script>                <div id=\"8c2cac82-d292-4a97-8d40-237100bb0966\" class=\"plotly-graph-div\" style=\"height:525px; width:100%;\"></div>            <script type=\"text/javascript\">                                    window.PLOTLYENV=window.PLOTLYENV || {};                                    if (document.getElementById(\"8c2cac82-d292-4a97-8d40-237100bb0966\")) {                    Plotly.newPlot(                        \"8c2cac82-d292-4a97-8d40-237100bb0966\",                        [{\"legendgroup\":\"Age distribution\",\"marker\":{\"color\":\"rgb(31, 119, 180)\"},\"mode\":\"lines\",\"name\":\"Age distribution\",\"showlegend\":true,\"x\":[16.0,16.058,16.116,16.174,16.232,16.29,16.348,16.406,16.464,16.522,16.58,16.638,16.696,16.754,16.812,16.87,16.928,16.986,17.044,17.102,17.16,17.218,17.276,17.334,17.392,17.45,17.508,17.566,17.624,17.682,17.74,17.798000000000002,17.856,17.914,17.972,18.03,18.088,18.146,18.204,18.262,18.32,18.378,18.436,18.494,18.552,18.61,18.668,18.726,18.784,18.842,18.9,18.958,19.016,19.073999999999998,19.132,19.19,19.248,19.306,19.364,19.422,19.48,19.538,19.596,19.654,19.712,19.77,19.828,19.886,19.944,20.002,20.06,20.118000000000002,20.176000000000002,20.234,20.292,20.35,20.408,20.466,20.524,20.582,20.64,20.698,20.756,20.814,20.872,20.93,20.988,21.046,21.104,21.162,21.22,21.278,21.336,21.394,21.451999999999998,21.509999999999998,21.567999999999998,21.626,21.684,21.742,21.8,21.858,21.916,21.974,22.032,22.09,22.148,22.206,22.264,22.322,22.38,22.438,22.496000000000002,22.554000000000002,22.612000000000002,22.67,22.728,22.786,22.844,22.902,22.96,23.018,23.076,23.134,23.192,23.25,23.308,23.366,23.424,23.482,23.54,23.598,23.656,23.714,23.772,23.83,23.887999999999998,23.945999999999998,24.003999999999998,24.061999999999998,24.119999999999997,24.178,24.236,24.294,24.352,24.41,24.468,24.526,24.584,24.642,24.7,24.758,24.816000000000003,24.874000000000002,24.932000000000002,24.990000000000002,25.048000000000002,25.106,25.164,25.222,25.28,25.338,25.396,25.454,25.512,25.57,25.628,25.686,25.744,25.802,25.86,25.918,25.976,26.034,26.092,26.15,26.208,26.266,26.323999999999998,26.381999999999998,26.439999999999998,26.497999999999998,26.555999999999997,26.614,26.672,26.73,26.788,26.846,26.904,26.962,27.02,27.078,27.136,27.194000000000003,27.252000000000002,27.310000000000002,27.368000000000002,27.426000000000002,27.484,27.542,27.6,27.658,27.716,27.774,27.832,27.89,27.948,28.006,28.064,28.122,28.18,28.238,28.296,28.354,28.412,28.47,28.528,28.586,28.644,28.701999999999998,28.759999999999998,28.817999999999998,28.875999999999998,28.933999999999997,28.992,29.05,29.108,29.166,29.224,29.282,29.34,29.398,29.456,29.514,29.572,29.630000000000003,29.688000000000002,29.746000000000002,29.804000000000002,29.862000000000002,29.92,29.978,30.036,30.094,30.152,30.21,30.268,30.326,30.384,30.442,30.5,30.558,30.616,30.674,30.732,30.79,30.848,30.906,30.964,31.022,31.08,31.137999999999998,31.195999999999998,31.253999999999998,31.311999999999998,31.369999999999997,31.428,31.486,31.544,31.602,31.66,31.718,31.776,31.834,31.892,31.95,32.007999999999996,32.066,32.123999999999995,32.182,32.239999999999995,32.298,32.356,32.414,32.472,32.53,32.588,32.646,32.704,32.762,32.82,32.878,32.936,32.994,33.052,33.11,33.168,33.226,33.284,33.342,33.4,33.458,33.516,33.574,33.632000000000005,33.69,33.748000000000005,33.806,33.864000000000004,33.922,33.980000000000004,34.038,34.096000000000004,34.153999999999996,34.212,34.269999999999996,34.328,34.385999999999996,34.444,34.501999999999995,34.56,34.617999999999995,34.676,34.734,34.792,34.85,34.908,34.966,35.024,35.082,35.14,35.198,35.256,35.314,35.372,35.43,35.488,35.546,35.604,35.662,35.72,35.778,35.836,35.894,35.952,36.010000000000005,36.068,36.126000000000005,36.184,36.242000000000004,36.3,36.358000000000004,36.416,36.474000000000004,36.532,36.59,36.647999999999996,36.706,36.763999999999996,36.822,36.879999999999995,36.938,36.995999999999995,37.054,37.111999999999995,37.17,37.228,37.286,37.344,37.402,37.46,37.518,37.576,37.634,37.692,37.75,37.808,37.866,37.924,37.982,38.04,38.098,38.156,38.214,38.272,38.33,38.388000000000005,38.446,38.504000000000005,38.562,38.620000000000005,38.678,38.736000000000004,38.794,38.852000000000004,38.91,38.968,39.025999999999996,39.084,39.141999999999996,39.2,39.257999999999996,39.316,39.373999999999995,39.432,39.489999999999995,39.548,39.606,39.664,39.722,39.78,39.838,39.896,39.954,40.012,40.07,40.128,40.186,40.244,40.302,40.36,40.418,40.476,40.534,40.592,40.65,40.708,40.766,40.824,40.882000000000005,40.94,40.998000000000005,41.056,41.114000000000004,41.172,41.230000000000004,41.288,41.346000000000004,41.403999999999996,41.462,41.519999999999996,41.578,41.635999999999996,41.694,41.751999999999995,41.81,41.867999999999995,41.926,41.984,42.042,42.1,42.158,42.216,42.274,42.332,42.39,42.448,42.506,42.564,42.622,42.68,42.738,42.796,42.854,42.912,42.97,43.028,43.086,43.144,43.202,43.260000000000005,43.318,43.376000000000005,43.434,43.492000000000004,43.55,43.608000000000004,43.666,43.724000000000004,43.782,43.84,43.897999999999996,43.956,44.013999999999996,44.072,44.129999999999995,44.188,44.245999999999995,44.304,44.361999999999995,44.42,44.478,44.536,44.594,44.652,44.71,44.768,44.826,44.884,44.942],\"xaxis\":\"x\",\"y\":[0.0046624062419186535,0.005151133205326191,0.005676319252473699,0.006238547963093429,0.006838106470570338,0.007474992498541978,0.00814893876910394,0.00885945366169148,0.00960587521537019,0.010387433855665408,0.011203317792871025,0.012052734081313828,0.01293495801971853,0.013849364030871,0.014795432429768005,0.01577272853038183,0.016780853214198616,0.017819367161136312,0.018887694124126834,0.01998501156546479,0.021110139309255947,0.022261438275073278,0.023436731592347652,0.02463325931355169,0.025847675546179207,0.02707609326018747,0.02831417759811316,0.029557283643662946,0.03080062980054497,0.0320394937371895,0.03326941477487145,0.0344863850526769,0.035687012059304385,0.036868637253068354,0.03802939935926414,0.03916823618969494,0.040284824944145446,0.04137946727255789,0.04245293118903252,0.04350626655277532,0.044540613695724054,0.04555702549744052,0.04655632164114178,0.04753899005369089,0.04850514502536684,0.04945454483400253,0.05038666463475912,0.05130081376053452,0.052196281215772994,0.053072489710611015,0.053929137523941725,0.05476630896982632,0.055584538125615,0.05638481631446375,0.05716854091753411,0.05793741055004618,0.058693278533945695,0.05943798205484374,0.060173167686821634,0.06090013465121454,0.061619715118001704,0.062332206282413725,0.06303736240513923,0.06373444730680099,0.06442233993522918,0.06509967859829764,0.06576502420757908,0.0664170201276088,0.06705452638343797,0.06767670908557136,0.06828307164736717,0.06887342200825051,0.06944777868818328,0.07000622698707501,0.0705487439047203,0.07107501542043292,0.07158427193054849,0.07207516654367715,0.07254571663774466,0.072993322055342,0.07341486437770592,0.0738068819524468,0.07416580595773692,0.07448823494076054,0.07477121996781941,0.0750125304589167,0.07521087224649098,0.07536603425419401,0.07547894787315024,0.07555165270154547,0.07558717265025716,0.07558931624844441,0.07556242311839408,0.07551108404885212,0.07543986424009183,0.07535305789361339,0.07525449759576207,0.07514743452674551,0.07503449638083684,0.07491772018024608,0.07479864813237519,0.07467846744368016,0.07455817044705658,0.07443871004668462,0.07432112744332711,0.07420663404595487,0.07409663669516056,0.07399270382246173,0.07389647879347215,0.07380955427778994,0.07373332704731717,0.07366885540136003,0.07361674110103973,0.07357705433286904,0.07354931428850252,0.07353253026109902,0.07352529976728314,0.07352595225226298,0.073532720501829,0.07354391785066111,0.07355809819434654,0.07357417784764102,0.07359150318517499,0.07360985511803875,0.07362938985865637,0.07365052399706158,0.07367377951061056,0.07369960993854734,0.07372823181178494,0.07375948513562669,0.07379274328975834,0.07382688656204288,0.07386034545156432,0.0738912109039576,0.07391739993675953,0.07393685780562366,0.07394777290439856,0.07394877863030482,0.07393911774046885,0.07391874911362604,0.07388838374863746,0.07384944538539374,0.07380396022441375,0.07375438867736643,0.0737034188204364,0.07365374538991311,0.0736078592394473,0.07356787005887354,0.07353538014785492,0.0735114198279975,0.07349644664094247,0.07349040194824914,0.07349281106194344,0.07350290759075923,0.07351976000909952,0.07354237889780768,0.07356978680300566,0.07360103873959473,0.07363518920622143,0.07367121011950149,0.07370787215338229,0.07374360847573116,0.07377638389809393,0.07380359340450209,0.0738220117106683,0.07382781015987092,0.07381664952186344,0.07378384807803086,0.0737246149005579,0.07363432966522374,0.07350884377382425,0.07334477385274545,0.07313975833759254,0.072892650928675,0.07260363085947132,0.07227421842887548,0.07190719408494899,0.07150642933153502,0.07107664666764928,0.07062313260920187,0.070151431802771,0.06966705090519497,0.0691751982693598,0.06868057995164037,0.06818726489824294,0.06769862338324883,0.06721733398320907,0.06674544668085838,0.06628448401985051,0.06583555923154477,0.06539949020808022,0.06497689099774309,0.0645682276759637,0.06417383222332147,0.06379387545361072,0.0634283070498906,0.06307677642788118,0.06273855169565012,0.062412454953278,0.06209683046486783,0.06178955809055465,0.06148811836215209,0.06118970854454933,0.06089140189864897,0.060590336109750585,0.060283912307766065,0.05996998388927602,0.059647014758795844,0.059314189590885656,0.05897146389658243,0.058619548391452066,0.05825982954998909,0.057894235352692405,0.05752506119048636,0.05715477494888607,0.0567858219656037,0.056420449668720465,0.056060568417961844,0.05570765985671563,0.05536273764593301,0.0550263586509324,0.05469867637756221,0.054379523512123815,0.054068507429797914,0.05376510185050681,0.05346871948460118,0.05317875425307133,0.05289458695090679,0.052615554304954015,0.05234088742428847,0.05206963082223571,0.051800556799519996,0.05153209152427814,0.05126226840593289,0.05098872142307575,0.05070872630033183,0.05041929145158021,0.05011729418434474,0.04979965162414934,0.04946351094412294,0.04910644040545422,0.04872660182807088,0.04832288653898033,0.0478950004199729,0.047443488957753556,0.046969699542225254,0.04647568489040185,0.04596405759498407,0.0454378106838909,0.044900122167729144,0.044354162517674725,0.043802922792453916,0.04324907792999258,0.04269489498188908,0.0421421904219491,0.04159233482064646,0.04104629786673785,0.040504722566305267,0.03996801492487016,0.039436434765886944,0.038910174560586215,0.038389416004005854,0.03787435813325831,0.03736521547123844,0.03686218935481868,0.03636541965677154,0.03587492701987379,0.03539055713898307,0.034911938404917596,0.03443846243152434,0.03396929389637806,0.0335034121674841,0.033039682897350015,0.032576953703754796,0.03211416474367282,0.03165046283229498,0.031185307015557842,0.03071855423670087,0.03025051582224142,0.029781978658928985,0.0293141887247939,0.028848798590454573,0.02838778413378187,0.027933338583266788,0.027487753806332095,0.02705329932062484,0.026632108825893275,0.02622608228799284,0.025836809044417063,0.025465514422079297,0.02511302937996864,0.024779780109003405,0.024465792664864938,0.02417070679023522,0.02389379317609452,0.023633969449807935,0.02338981196176238,0.023159562673874277,0.022941132775635413,0.02273210670294743,0.022529751689112185,0.02233103859905828,0.022132679465822463,0.021931185873252074,0.02172295025055163,0.02150434951331932,0.0212718676298512,0.021022230973382117,0.020752548091196976,0.020460444074786838,0.020144179252680184,0.01980274253334007,0.019435911356552298,0.01904427270460186,0.018629202716568382,0.0181928058110015,0.01773781749868723,0.017267477918409484,0.01678538527014334,0.01629533955369186,0.015801187254328053,0.01530667687125852,0.014815333585843379,0.014330359127090363,0.013854560281836728,0.013390306810039073,0.012939517043578834,0.012503667408865006,0.012083820690054273,0.011680667128658112,0.011294572437019248,0.010925627407447075,0.010573694880493971,0.010238451207837165,0.009919420804382354,0.009616003737850497,0.009327497393020343,0.00905311396336136,0.008791995816431912,0.00854323066383514,0.008305868008832432,0.00807893765311987,0.007861470250375441,0.007652519133549551,0.007451182036069077,0.0072566209646754525,0.007068078413066515,0.006884888335396873,0.006706480788239689,0.006532379824368091,0.006362194983420837,0.006195607465566261,0.006032352692658559,0.0058722013741638315,0.0057149413487890795,0.005560362349118669,0.005408245454008061,0.005258358403102879,0.005110457225786051,0.004964293873622516,0.0048196288338772505,0.004676247125457472,0.004533975701840929,0.0043927001458101194,0.004252378645839521,0.004113051571896267,0.003974845472023876,0.0038379709246817756,0.0037027143303064096,0.003569424333865514,0.003438494072324972,0.0033103407874371447,0.003185384506892707,0.0030640274708052927,0.002946635783146305,0.002833524435168207,0.0027249464290233197,0.0026210862797104986,0.002522057746053344,0.0024279052829814826,0.0023386084516566776,0.0022540883889910135,0.002174215425281104,0.002098817034145262,0.002027685476618235,0.0019605847272177925,0.0018972565074004677,0.0018374254666648432,0.0017808037158124172,0.0017270950124152658,0.001675998918562027,0.0016272151999965853,0.0015804486282001444,0.001535414204333793,0.0014918426714902152,0.0014494860446347493,0.0014081227876840048,0.00136756221985436,0.0013276477461104587,0.0012882585779936274,0.0012493097319294212,0.0012107502464408653,0.0011725597275372612,0.0011347434916089394,0.0010973267076274974,0.001060348029526273,0.0010238532453472826,0.0009878894489909714,0.0009525001670447746,0.0009177217572263835,0.0008835812511419005,0.0008500956596646536,0.0008172726120363742,0.0007851120757941224,0.0007536088162898565,0.0007227552095167807,0.000692544022360141,0.0006629708170567913,0.0006340357137392841,0.0006057443452085831,0.0005781079484186988,0.0005511426442719642,0.0005248680493016552,0.0004993054304114764,0.0004744756513450489,0.0004503971651943241,0.00042708428306321864,0.00040454590028573645,0.0003827847960340766,0.0003617975486971363,0.0003415750371455736,0.0003221034350704691,0.0003033655583360919,0.0002853423977038611,0.00026801466273904166,0.00025136417605744647,0.00023537498701405152,0.00022003411562151247,0.00020533188520378555,0.00019126185020501446,0.00017782036840679737,0.00016500590036522118,0.00015281814041628793,0.00014125709196178548,0.0001303221953347896,0.00012001160108220198,0.00011032165770986142,0.00010124665411003899,0.00009277882648279431,0.0000849086107877571,0.00007762509729393665,0.00007091662555096763,0.00006477144715628745,0.00005917838027176949,0.000054127383446230915,0.00004960998585174554,0.00004561952509460077,0.000042151160702010425,0.00003920164961664229,0.00003676888811817483,0.00003485124135761573,0.00003344669625978343,0.000032551885342914216,0.000032161037700534974,0.000032264918865880704,0.00003284982354123462,0.000033896684305574996,0.000035380355530307536,0.00003726912497049772,0.00003952449602245436,0.00004210127167020757,0.000044947957004468864,0.000048007481349076134,0.00005121822410280575,0.000054515311209642904,0.00005783213267939816,0.00006110201687542835,0.00006425998548140641,0.00006724450520066548,0.0000699991491946945,0.0000724740836080705,0.00007462730244990571,0.00007642554735983693,0.00007784486667160317,0.00007887078955958421,0.00007949811441815784,0.00007973033424993342,0.00007957874391165365,0.00007906129285338521,0.00007820126100288028,0.0000770258436010276,0.00007556473249582116,0.00007384877662158623,0.00007190879366136458,0.00006977458925734148,0.00006747422104623933,0.00006503352396410118,0.00006247589249202341,0.00005982229652642621,0.000057091491841452114],\"yaxis\":\"y\",\"type\":\"scatter\"}],                        {\"barmode\":\"overlay\",\"hovermode\":\"closest\",\"legend\":{\"traceorder\":\"reversed\"},\"xaxis\":{\"anchor\":\"y2\",\"domain\":[0.0,1.0],\"zeroline\":false,\"title\":{\"text\":\"Age\"}},\"yaxis\":{\"anchor\":\"free\",\"domain\":[0.0,1],\"position\":0.0},\"template\":{\"data\":{\"histogram2dcontour\":[{\"type\":\"histogram2dcontour\",\"colorbar\":{\"outlinewidth\":0,\"ticks\":\"\"},\"colorscale\":[[0.0,\"#0d0887\"],[0.1111111111111111,\"#46039f\"],[0.2222222222222222,\"#7201a8\"],[0.3333333333333333,\"#9c179e\"],[0.4444444444444444,\"#bd3786\"],[0.5555555555555556,\"#d8576b\"],[0.6666666666666666,\"#ed7953\"],[0.7777777777777778,\"#fb9f3a\"],[0.8888888888888888,\"#fdca26\"],[1.0,\"#f0f921\"]]}],\"choropleth\":[{\"type\":\"choropleth\",\"colorbar\":{\"outlinewidth\":0,\"ticks\":\"\"}}],\"histogram2d\":[{\"type\":\"histogram2d\",\"colorbar\":{\"outlinewidth\":0,\"ticks\":\"\"},\"colorscale\":[[0.0,\"#0d0887\"],[0.1111111111111111,\"#46039f\"],[0.2222222222222222,\"#7201a8\"],[0.3333333333333333,\"#9c179e\"],[0.4444444444444444,\"#bd3786\"],[0.5555555555555556,\"#d8576b\"],[0.6666666666666666,\"#ed7953\"],[0.7777777777777778,\"#fb9f3a\"],[0.8888888888888888,\"#fdca26\"],[1.0,\"#f0f921\"]]}],\"heatmap\":[{\"type\":\"heatmap\",\"colorbar\":{\"outlinewidth\":0,\"ticks\":\"\"},\"colorscale\":[[0.0,\"#0d0887\"],[0.1111111111111111,\"#46039f\"],[0.2222222222222222,\"#7201a8\"],[0.3333333333333333,\"#9c179e\"],[0.4444444444444444,\"#bd3786\"],[0.5555555555555556,\"#d8576b\"],[0.6666666666666666,\"#ed7953\"],[0.7777777777777778,\"#fb9f3a\"],[0.8888888888888888,\"#fdca26\"],[1.0,\"#f0f921\"]]}],\"heatmapgl\":[{\"type\":\"heatmapgl\",\"colorbar\":{\"outlinewidth\":0,\"ticks\":\"\"},\"colorscale\":[[0.0,\"#0d0887\"],[0.1111111111111111,\"#46039f\"],[0.2222222222222222,\"#7201a8\"],[0.3333333333333333,\"#9c179e\"],[0.4444444444444444,\"#bd3786\"],[0.5555555555555556,\"#d8576b\"],[0.6666666666666666,\"#ed7953\"],[0.7777777777777778,\"#fb9f3a\"],[0.8888888888888888,\"#fdca26\"],[1.0,\"#f0f921\"]]}],\"contourcarpet\":[{\"type\":\"contourcarpet\",\"colorbar\":{\"outlinewidth\":0,\"ticks\":\"\"}}],\"contour\":[{\"type\":\"contour\",\"colorbar\":{\"outlinewidth\":0,\"ticks\":\"\"},\"colorscale\":[[0.0,\"#0d0887\"],[0.1111111111111111,\"#46039f\"],[0.2222222222222222,\"#7201a8\"],[0.3333333333333333,\"#9c179e\"],[0.4444444444444444,\"#bd3786\"],[0.5555555555555556,\"#d8576b\"],[0.6666666666666666,\"#ed7953\"],[0.7777777777777778,\"#fb9f3a\"],[0.8888888888888888,\"#fdca26\"],[1.0,\"#f0f921\"]]}],\"surface\":[{\"type\":\"surface\",\"colorbar\":{\"outlinewidth\":0,\"ticks\":\"\"},\"colorscale\":[[0.0,\"#0d0887\"],[0.1111111111111111,\"#46039f\"],[0.2222222222222222,\"#7201a8\"],[0.3333333333333333,\"#9c179e\"],[0.4444444444444444,\"#bd3786\"],[0.5555555555555556,\"#d8576b\"],[0.6666666666666666,\"#ed7953\"],[0.7777777777777778,\"#fb9f3a\"],[0.8888888888888888,\"#fdca26\"],[1.0,\"#f0f921\"]]}],\"mesh3d\":[{\"type\":\"mesh3d\",\"colorbar\":{\"outlinewidth\":0,\"ticks\":\"\"}}],\"scatter\":[{\"fillpattern\":{\"fillmode\":\"overlay\",\"size\":10,\"solidity\":0.2},\"type\":\"scatter\"}],\"parcoords\":[{\"type\":\"parcoords\",\"line\":{\"colorbar\":{\"outlinewidth\":0,\"ticks\":\"\"}}}],\"scatterpolargl\":[{\"type\":\"scatterpolargl\",\"marker\":{\"colorbar\":{\"outlinewidth\":0,\"ticks\":\"\"}}}],\"bar\":[{\"error_x\":{\"color\":\"#2a3f5f\"},\"error_y\":{\"color\":\"#2a3f5f\"},\"marker\":{\"line\":{\"color\":\"#E5ECF6\",\"width\":0.5},\"pattern\":{\"fillmode\":\"overlay\",\"size\":10,\"solidity\":0.2}},\"type\":\"bar\"}],\"scattergeo\":[{\"type\":\"scattergeo\",\"marker\":{\"colorbar\":{\"outlinewidth\":0,\"ticks\":\"\"}}}],\"scatterpolar\":[{\"type\":\"scatterpolar\",\"marker\":{\"colorbar\":{\"outlinewidth\":0,\"ticks\":\"\"}}}],\"histogram\":[{\"marker\":{\"pattern\":{\"fillmode\":\"overlay\",\"size\":10,\"solidity\":0.2}},\"type\":\"histogram\"}],\"scattergl\":[{\"type\":\"scattergl\",\"marker\":{\"colorbar\":{\"outlinewidth\":0,\"ticks\":\"\"}}}],\"scatter3d\":[{\"type\":\"scatter3d\",\"line\":{\"colorbar\":{\"outlinewidth\":0,\"ticks\":\"\"}},\"marker\":{\"colorbar\":{\"outlinewidth\":0,\"ticks\":\"\"}}}],\"scattermapbox\":[{\"type\":\"scattermapbox\",\"marker\":{\"colorbar\":{\"outlinewidth\":0,\"ticks\":\"\"}}}],\"scatterternary\":[{\"type\":\"scatterternary\",\"marker\":{\"colorbar\":{\"outlinewidth\":0,\"ticks\":\"\"}}}],\"scattercarpet\":[{\"type\":\"scattercarpet\",\"marker\":{\"colorbar\":{\"outlinewidth\":0,\"ticks\":\"\"}}}],\"carpet\":[{\"aaxis\":{\"endlinecolor\":\"#2a3f5f\",\"gridcolor\":\"white\",\"linecolor\":\"white\",\"minorgridcolor\":\"white\",\"startlinecolor\":\"#2a3f5f\"},\"baxis\":{\"endlinecolor\":\"#2a3f5f\",\"gridcolor\":\"white\",\"linecolor\":\"white\",\"minorgridcolor\":\"white\",\"startlinecolor\":\"#2a3f5f\"},\"type\":\"carpet\"}],\"table\":[{\"cells\":{\"fill\":{\"color\":\"#EBF0F8\"},\"line\":{\"color\":\"white\"}},\"header\":{\"fill\":{\"color\":\"#C8D4E3\"},\"line\":{\"color\":\"white\"}},\"type\":\"table\"}],\"barpolar\":[{\"marker\":{\"line\":{\"color\":\"#E5ECF6\",\"width\":0.5},\"pattern\":{\"fillmode\":\"overlay\",\"size\":10,\"solidity\":0.2}},\"type\":\"barpolar\"}],\"pie\":[{\"automargin\":true,\"type\":\"pie\"}]},\"layout\":{\"autotypenumbers\":\"strict\",\"colorway\":[\"#636efa\",\"#EF553B\",\"#00cc96\",\"#ab63fa\",\"#FFA15A\",\"#19d3f3\",\"#FF6692\",\"#B6E880\",\"#FF97FF\",\"#FECB52\"],\"font\":{\"color\":\"#2a3f5f\"},\"hovermode\":\"closest\",\"hoverlabel\":{\"align\":\"left\"},\"paper_bgcolor\":\"white\",\"plot_bgcolor\":\"#E5ECF6\",\"polar\":{\"bgcolor\":\"#E5ECF6\",\"angularaxis\":{\"gridcolor\":\"white\",\"linecolor\":\"white\",\"ticks\":\"\"},\"radialaxis\":{\"gridcolor\":\"white\",\"linecolor\":\"white\",\"ticks\":\"\"}},\"ternary\":{\"bgcolor\":\"#E5ECF6\",\"aaxis\":{\"gridcolor\":\"white\",\"linecolor\":\"white\",\"ticks\":\"\"},\"baxis\":{\"gridcolor\":\"white\",\"linecolor\":\"white\",\"ticks\":\"\"},\"caxis\":{\"gridcolor\":\"white\",\"linecolor\":\"white\",\"ticks\":\"\"}},\"coloraxis\":{\"colorbar\":{\"outlinewidth\":0,\"ticks\":\"\"}},\"colorscale\":{\"sequential\":[[0.0,\"#0d0887\"],[0.1111111111111111,\"#46039f\"],[0.2222222222222222,\"#7201a8\"],[0.3333333333333333,\"#9c179e\"],[0.4444444444444444,\"#bd3786\"],[0.5555555555555556,\"#d8576b\"],[0.6666666666666666,\"#ed7953\"],[0.7777777777777778,\"#fb9f3a\"],[0.8888888888888888,\"#fdca26\"],[1.0,\"#f0f921\"]],\"sequentialminus\":[[0.0,\"#0d0887\"],[0.1111111111111111,\"#46039f\"],[0.2222222222222222,\"#7201a8\"],[0.3333333333333333,\"#9c179e\"],[0.4444444444444444,\"#bd3786\"],[0.5555555555555556,\"#d8576b\"],[0.6666666666666666,\"#ed7953\"],[0.7777777777777778,\"#fb9f3a\"],[0.8888888888888888,\"#fdca26\"],[1.0,\"#f0f921\"]],\"diverging\":[[0,\"#8e0152\"],[0.1,\"#c51b7d\"],[0.2,\"#de77ae\"],[0.3,\"#f1b6da\"],[0.4,\"#fde0ef\"],[0.5,\"#f7f7f7\"],[0.6,\"#e6f5d0\"],[0.7,\"#b8e186\"],[0.8,\"#7fbc41\"],[0.9,\"#4d9221\"],[1,\"#276419\"]]},\"xaxis\":{\"gridcolor\":\"white\",\"linecolor\":\"white\",\"ticks\":\"\",\"title\":{\"standoff\":15},\"zerolinecolor\":\"white\",\"automargin\":true,\"zerolinewidth\":2},\"yaxis\":{\"gridcolor\":\"white\",\"linecolor\":\"white\",\"ticks\":\"\",\"title\":{\"standoff\":15},\"zerolinecolor\":\"white\",\"automargin\":true,\"zerolinewidth\":2},\"scene\":{\"xaxis\":{\"backgroundcolor\":\"#E5ECF6\",\"gridcolor\":\"white\",\"linecolor\":\"white\",\"showbackground\":true,\"ticks\":\"\",\"zerolinecolor\":\"white\",\"gridwidth\":2},\"yaxis\":{\"backgroundcolor\":\"#E5ECF6\",\"gridcolor\":\"white\",\"linecolor\":\"white\",\"showbackground\":true,\"ticks\":\"\",\"zerolinecolor\":\"white\",\"gridwidth\":2},\"zaxis\":{\"backgroundcolor\":\"#E5ECF6\",\"gridcolor\":\"white\",\"linecolor\":\"white\",\"showbackground\":true,\"ticks\":\"\",\"zerolinecolor\":\"white\",\"gridwidth\":2}},\"shapedefaults\":{\"line\":{\"color\":\"#2a3f5f\"}},\"annotationdefaults\":{\"arrowcolor\":\"#2a3f5f\",\"arrowhead\":0,\"arrowwidth\":1},\"geo\":{\"bgcolor\":\"white\",\"landcolor\":\"#E5ECF6\",\"subunitcolor\":\"white\",\"showland\":true,\"showlakes\":true,\"lakecolor\":\"white\"},\"title\":{\"x\":0.05},\"mapbox\":{\"style\":\"light\"}}},\"title\":{\"text\":\"Age Distribution of Players\",\"x\":0.5}},                        {\"responsive\": true}                    ).then(function(){\n",
              "                            \n",
              "var gd = document.getElementById('8c2cac82-d292-4a97-8d40-237100bb0966');\n",
              "var x = new MutationObserver(function (mutations, observer) {{\n",
              "        var display = window.getComputedStyle(gd).display;\n",
              "        if (!display || display === 'none') {{\n",
              "            console.log([gd, 'removed!']);\n",
              "            Plotly.purge(gd);\n",
              "            observer.disconnect();\n",
              "        }}\n",
              "}});\n",
              "\n",
              "// Listen for the removal of the full notebook cells\n",
              "var notebookContainer = gd.closest('#notebook-container');\n",
              "if (notebookContainer) {{\n",
              "    x.observe(notebookContainer, {childList: true});\n",
              "}}\n",
              "\n",
              "// Listen for the clearing of the current output cell\n",
              "var outputEl = gd.closest('.output');\n",
              "if (outputEl) {{\n",
              "    x.observe(outputEl, {childList: true});\n",
              "}}\n",
              "\n",
              "                        })                };                            </script>        </div>\n",
              "</body>\n",
              "</html>"
            ]
          },
          "metadata": {}
        }
      ]
    },
    {
      "cell_type": "markdown",
      "source": [
        "kesimpulan visualisasi:\n",
        "\n",
        "Grafik menunjukkan distribusi umur pemain sepak bola. Dari grafik ini, terlihat bahwa sebagian besar pemain berada pada rentang umur tertentu, memberikan gambaran tentang kisaran usia pemain sepak bola. Grafik ini menunjukkan bahwa sebagian besar pemain sepak bola profesional berada dalam kelompok umur yang relatif muda hingga usia puncak karir mereka, yang biasanya berkisar antara 20 hingga 30 tahun. Hal ini mencerminkan fase karir pemain sepak bola yang paling produktif.\n",
        "\n",
        "Secara keseluruhan, grafik ini memberikan wawasan mengenai rentang umur mayoritas pemain sepak bola, yang penting dalam merencanakan strategi tim dan pemilihan pemain berdasarkan pengalaman dan potensi usia."
      ],
      "metadata": {
        "id": "bTJdY0w-Z-br"
      }
    },
    {
      "cell_type": "markdown",
      "source": [
        "## Visualisasi pie chart (grafik lingkaran)"
      ],
      "metadata": {
        "id": "m74vYgt8CgR6"
      }
    },
    {
      "cell_type": "code",
      "source": [
        "# Membuat grafik lingkaran berdasarkan preferensi kaki terkuat (Preferred Foot)\n",
        "# df['Preferred Foot'].value_counts() menghitung jumlah pemain dengan kaki dominan (kanan atau kiri)\n",
        "plt.pie(df['Preferred Foot'].value_counts(),\n",
        "        labels=['right','left'], # memberi keterangan pada setiap warna pada grfik\n",
        "        autopct='%1.1f%%') # Menampilkan persentase setiap kategori di grafik\n",
        "\n",
        "# Memberi judul pada grafik pie\n",
        "plt.title('perhitungan presentase player dengan kaki terkuat')\n",
        "# tampilkan grafik\n",
        "plt.show()"
      ],
      "metadata": {
        "colab": {
          "base_uri": "https://localhost:8080/",
          "height": 428
        },
        "id": "cS6mjn6bLf6G",
        "outputId": "c9a2e253-7aa7-48cf-b095-17a95f40652a"
      },
      "execution_count": null,
      "outputs": [
        {
          "output_type": "display_data",
          "data": {
            "text/plain": [
              "<Figure size 640x480 with 1 Axes>"
            ],
            "image/png": "[encoded data removed]"
          },
          "metadata": {}
        }
      ]
    },
    {
      "cell_type": "markdown",
      "source": [
        "Kesimpulan Grafik:\n",
        "\n",
        "Grafik menunjukkan presentase kaki terkuat para pemain sepak bola. Sebagian besar pemain menggunakan kaki kanan sebagai kaki terkuat, sementara pemain yang lebih dominan menggunakan kaki kiri jumlahnya lebih sedikit.\n",
        "\n",
        "intinya, grafik ini memberikan gambaran mengenai preferensi penggunaan kaki dalam sepak bola profesional, yang dapat menjadi faktor penting dalam strategi permainan, terutama dalam memilih pemain untuk posisi tertentu di lapangan.\n",
        "\n",
        "seperti posisi winger pelatih bisa menentukan bahwa pemain di letakkan diposisi winger kanan dan kiri sesuai kaki terkuatnya."
      ],
      "metadata": {
        "id": "txF1PBIgRRXo"
      }
    },
    {
      "cell_type": "markdown",
      "source": [
        "## **Modeling pemain yang berpotensi menjadi pemain bintang menggunakan Machine Learning.**\n",
        "\n",
        "untuk mengetahui pemain yang berpotensi menjadi pemain bintang dengan mengunakan machine lerning dapat menggunakan random forest yaitu, klasifikasi model dalam kasus ini labelnya yaitu is_star:\n",
        "\n",
        "dan untuk fiturnya menggunakan overall, potential, dan value"
      ],
      "metadata": {
        "id": "b1UyQCV2ip54"
      }
    },
    {
      "cell_type": "code",
      "source": [
        "import pandas as pd\n",
        "import numpy as np\n",
        "from sklearn.model_selection import train_test_split\n",
        "from sklearn.ensemble import RandomForestClassifier\n",
        "from sklearn.metrics import accuracy_score, classification_report, confusion_matrix\n",
        "import matplotlib.pyplot as plt\n",
        "import seaborn as sns\n",
        "\n",
        "# Load dataset\n",
        "df = pd.read_csv('fifa_eda.csv')\n",
        "\n",
        "# Membuat target 'is_star' berdasarkan kriteria\n",
        "df['is_star'] = ((df['Overall'] > 85) & (df['Potential'] > 85) & (df['Value'] > 50000)).astype(int)\n",
        "\n",
        "# Pilih fitur dan target\n",
        "X = df[['Overall', 'Potential', 'Value']]\n",
        "y = df['is_star']\n",
        "\n",
        "# Split data menjadi train dan test\n",
        "X_train, X_test, y_train, y_test = train_test_split(X, y, test_size=0.3, random_state=42)\n",
        "\n",
        "# Inisialisasi model Random Forest\n",
        "rf_model = RandomForestClassifier(n_estimators=100, random_state=42)\n",
        "\n",
        "# Latih model\n",
        "rf_model.fit(X_train, y_train)\n",
        "\n",
        "# Prediksi data test\n",
        "y_pred = rf_model.predict(X_test)"
      ],
      "metadata": {
        "id": "GzeX0j9EjGdm"
      },
      "execution_count": null,
      "outputs": []
    },
    {
      "cell_type": "code",
      "source": [
        "# Evaluasi akurasi\n",
        "accuracy = accuracy_score(y_test, y_pred)\n",
        "print(f\"Accuracy: {accuracy:.2f}\")\n",
        "\n",
        "# Classification Report\n",
        "print(\"Classification Report:\")\n",
        "print(classification_report(y_test, y_pred))\n",
        "\n",
        "# Confusion Matrix\n",
        "cm = confusion_matrix(y_test, y_pred)\n",
        "\n",
        "# Visualisasi Confusion Matrix\n",
        "plt.figure(figsize=(6, 4))\n",
        "sns.heatmap(cm, annot=True, fmt=\"d\", cmap=\"Blues\", xticklabels=[\"Not Star\", \"Star\"], yticklabels=[\"Not Star\", \"Star\"])\n",
        "plt.ylabel('Actual')\n",
        "plt.xlabel('Predicted')\n",
        "plt.title('Confusion Matrix')\n",
        "plt.show()"
      ],
      "metadata": {
        "colab": {
          "base_uri": "https://localhost:8080/",
          "height": 601
        },
        "id": "UlUVcUDqjK23",
        "outputId": "37fa104a-87b7-47b4-bace-ad5d65259453"
      },
      "execution_count": null,
      "outputs": [
        {
          "output_type": "stream",
          "name": "stdout",
          "text": [
            "Accuracy: 1.00\n",
            "Classification Report:\n",
            "              precision    recall  f1-score   support\n",
            "\n",
            "           0       1.00      1.00      1.00      5446\n",
            "           1       0.94      1.00      0.97        17\n",
            "\n",
            "    accuracy                           1.00      5463\n",
            "   macro avg       0.97      1.00      0.99      5463\n",
            "weighted avg       1.00      1.00      1.00      5463\n",
            "\n"
          ]
        },
        {
          "output_type": "display_data",
          "data": {
            "text/plain": [
              "<Figure size 600x400 with 2 Axes>"
            ],
            "image/png": "[encoded data removed]"
          },
          "metadata": {}
        }
      ]
    },
    {
      "cell_type": "markdown",
      "source": [
        "kesimpulan:\n",
        "\n",
        "dari 5463 data pemain tedapat 17 pemain yang berpotensi menjadi pemain bintang dan 5445 pemain yang tidak menjadi pemain bintang.\n",
        "\n",
        "dan 1 pemain dengan kesalahan perkiraan pemain bintang karna dari perhitungan precision, recall, f1-score terdapat angka yang tidak sempurna 100 / 1.00 yang membuat perhitungan terjadi kesalahan  "
      ],
      "metadata": {
        "id": "Fqgn5hDQjOyC"
      }
    },
    {
      "cell_type": "code",
      "source": [
        "import pandas as pd\n",
        "from sklearn.tree import DecisionTreeClassifier\n",
        "from sklearn.model_selection import train_test_split\n",
        "from sklearn.metrics import classification_report, accuracy_score\n",
        "from joblib import dump\n",
        "\n",
        "# Load dataset\n",
        "data = pd.read_csv('fifa_eda.csv')  # Ganti dengan path dataset Anda\n",
        "\n",
        "# Ambil subset data\n",
        "data_subset = data.iloc[:150].copy()\n",
        "\n",
        "# Fungsi klasifikasi kualitas pemain\n",
        "def classify_player(overall, potential, weight, age):\n",
        "    if overall >= 95 or potential >= 90 or age <= 20 or weight <= 130:\n",
        "        return \"Bagus\"\n",
        "    elif (70 <= overall < 85) or (70 <= potential < 85) or (110 <= weight < 130) or (20 < age <= 25):\n",
        "        return \"Sedang\"\n",
        "    else:\n",
        "        return \"Tidak Bagus\"\n",
        "\n",
        "# Terapkan fungsi klasifikasi ke dataset\n",
        "data_subset['Class'] = data_subset.apply(\n",
        "    lambda row: classify_player(row['Overall'], row['Potential'], row['Weight'], row['Age']), axis=1\n",
        ")\n",
        "\n",
        "# Pilih fitur dan target\n",
        "features = data_subset[['Age', 'Overall', 'Potential', 'Weight']]\n",
        "target = data_subset['Class']\n",
        "\n",
        "# Bagi dataset menjadi data latih dan uji\n",
        "X_train, X_test, y_train, y_test = train_test_split(features, target, test_size=0.3, random_state=42)\n",
        "\n",
        "# Buat dan latih model Decision Tree\n",
        "clf = DecisionTreeClassifier(random_state=42)\n",
        "clf.fit(X_train, y_train)\n",
        "\n",
        "# Evaluasi model\n",
        "y_pred = clf.predict(X_test)\n",
        "accuracy = accuracy_score(y_test, y_pred)\n",
        "report = classification_report(y_test, y_pred)\n",
        "\n",
        "print(f\"Accuracy: {accuracy:.2f}\")\n",
        "print(\"Classification Report:\")\n",
        "print(report)\n",
        "\n",
        "# Simpan model\n",
        "dump(clf, 'Decision_tree_classifier_acc.joblib')\n",
        "print(\"Model berhasil disimpan sebagai 'Decision_tree_classifier_acc.joblib'.\")"
      ],
      "metadata": {
        "colab": {
          "base_uri": "https://localhost:8080/"
        },
        "id": "a2_uP2_QcnKX",
        "outputId": "a6e72469-3042-42cd-b0e0-83a4cd7eaba7"
      },
      "execution_count": 1,
      "outputs": [
        {
          "output_type": "stream",
          "name": "stdout",
          "text": [
            "Accuracy: 0.98\n",
            "Classification Report:\n",
            "              precision    recall  f1-score   support\n",
            "\n",
            "       Bagus       1.00      0.94      0.97        18\n",
            "      Sedang       1.00      1.00      1.00        12\n",
            " Tidak Bagus       0.94      1.00      0.97        15\n",
            "\n",
            "    accuracy                           0.98        45\n",
            "   macro avg       0.98      0.98      0.98        45\n",
            "weighted avg       0.98      0.98      0.98        45\n",
            "\n",
            "Model berhasil disimpan sebagai 'Decision_tree_classifier_acc.joblib'.\n"
          ]
        }
      ]
    }
  ],
  "metadata": {
    "colab": {
      "provenance": []
    },
    "kernelspec": {
      "display_name": "Python 3",
      "name": "python3"
    }
  },
  "nbformat": 4,
  "nbformat_minor": 0
}